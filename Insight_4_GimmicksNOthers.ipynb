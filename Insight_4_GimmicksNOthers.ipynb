{
 "cells": [
  {
   "cell_type": "code",
   "execution_count": 121,
   "id": "4c63b310",
   "metadata": {
    "ExecuteTime": {
     "end_time": "2021-09-16T06:18:32.207321Z",
     "start_time": "2021-09-16T06:18:32.200003Z"
    }
   },
   "outputs": [],
   "source": [
    "import pandas as pd\n",
    "import numpy as np\n",
    "import matplotlib.pyplot as plt\n",
    "import seaborn as sns\n",
    "\n",
    "import scipy.stats as ss\n",
    "import statsmodels.api as sa\n",
    "import scikit_posthocs as sp\n",
    "\n",
    "# import warnings filter\n",
    "import warnings\n",
    "from warnings import simplefilter\n",
    "# ignore all future warnings\n",
    "simplefilter(action='ignore', category=FutureWarning)\n",
    "warnings.filterwarnings(\"ignore\", category=RuntimeWarning) \n",
    "pd.options.mode.chained_assignment = None "
   ]
  },
  {
   "cell_type": "markdown",
   "id": "0bc3ef17",
   "metadata": {},
   "source": [
    "# Loading Initial Dataset"
   ]
  },
  {
   "cell_type": "code",
   "execution_count": 60,
   "id": "d4935a3a",
   "metadata": {
    "ExecuteTime": {
     "end_time": "2021-09-16T05:20:55.654901Z",
     "start_time": "2021-09-16T05:20:46.080296Z"
    }
   },
   "outputs": [
    {
     "data": {
      "text/html": [
       "<div>\n",
       "<style scoped>\n",
       "    .dataframe tbody tr th:only-of-type {\n",
       "        vertical-align: middle;\n",
       "    }\n",
       "\n",
       "    .dataframe tbody tr th {\n",
       "        vertical-align: top;\n",
       "    }\n",
       "\n",
       "    .dataframe thead th {\n",
       "        text-align: right;\n",
       "    }\n",
       "</style>\n",
       "<table border=\"1\" class=\"dataframe\">\n",
       "  <thead>\n",
       "    <tr style=\"text-align: right;\">\n",
       "      <th></th>\n",
       "      <th>w_regn</th>\n",
       "      <th>w_id</th>\n",
       "      <th>w_shsn</th>\n",
       "      <th>w_hcn</th>\n",
       "      <th>rfact</th>\n",
       "      <th>toinc_decile</th>\n",
       "      <th>pcinc_decile</th>\n",
       "      <th>reg_pcdecile</th>\n",
       "      <th>fsize</th>\n",
       "      <th>pcinc</th>\n",
       "      <th>...</th>\n",
       "      <th>ref_qty</th>\n",
       "      <th>wash_qty</th>\n",
       "      <th>aircon_qty</th>\n",
       "      <th>car_qty</th>\n",
       "      <th>landline_qty</th>\n",
       "      <th>cellphone_qty</th>\n",
       "      <th>pc_qty</th>\n",
       "      <th>oven_qty</th>\n",
       "      <th>motor_banca_qty</th>\n",
       "      <th>motorcycle_qty</th>\n",
       "    </tr>\n",
       "  </thead>\n",
       "  <tbody>\n",
       "    <tr>\n",
       "      <th>0</th>\n",
       "      <td>14</td>\n",
       "      <td>101008000</td>\n",
       "      <td>1</td>\n",
       "      <td>8</td>\n",
       "      <td>211.1572</td>\n",
       "      <td>9</td>\n",
       "      <td>9</td>\n",
       "      <td>9</td>\n",
       "      <td>4.0</td>\n",
       "      <td>120083.00</td>\n",
       "      <td>...</td>\n",
       "      <td>1.0</td>\n",
       "      <td>1.0</td>\n",
       "      <td>NaN</td>\n",
       "      <td>NaN</td>\n",
       "      <td>NaN</td>\n",
       "      <td>2.0</td>\n",
       "      <td>1.0</td>\n",
       "      <td>NaN</td>\n",
       "      <td>NaN</td>\n",
       "      <td>1.0</td>\n",
       "    </tr>\n",
       "    <tr>\n",
       "      <th>1</th>\n",
       "      <td>14</td>\n",
       "      <td>101008000</td>\n",
       "      <td>2</td>\n",
       "      <td>19</td>\n",
       "      <td>211.1572</td>\n",
       "      <td>6</td>\n",
       "      <td>7</td>\n",
       "      <td>7</td>\n",
       "      <td>3.0</td>\n",
       "      <td>66078.33</td>\n",
       "      <td>...</td>\n",
       "      <td>NaN</td>\n",
       "      <td>1.0</td>\n",
       "      <td>NaN</td>\n",
       "      <td>NaN</td>\n",
       "      <td>NaN</td>\n",
       "      <td>3.0</td>\n",
       "      <td>1.0</td>\n",
       "      <td>NaN</td>\n",
       "      <td>NaN</td>\n",
       "      <td>2.0</td>\n",
       "    </tr>\n",
       "    <tr>\n",
       "      <th>2</th>\n",
       "      <td>14</td>\n",
       "      <td>101008000</td>\n",
       "      <td>3</td>\n",
       "      <td>31</td>\n",
       "      <td>211.1572</td>\n",
       "      <td>2</td>\n",
       "      <td>1</td>\n",
       "      <td>1</td>\n",
       "      <td>6.0</td>\n",
       "      <td>13797.50</td>\n",
       "      <td>...</td>\n",
       "      <td>NaN</td>\n",
       "      <td>NaN</td>\n",
       "      <td>NaN</td>\n",
       "      <td>NaN</td>\n",
       "      <td>NaN</td>\n",
       "      <td>NaN</td>\n",
       "      <td>NaN</td>\n",
       "      <td>NaN</td>\n",
       "      <td>NaN</td>\n",
       "      <td>NaN</td>\n",
       "    </tr>\n",
       "    <tr>\n",
       "      <th>3</th>\n",
       "      <td>14</td>\n",
       "      <td>101008000</td>\n",
       "      <td>4</td>\n",
       "      <td>42</td>\n",
       "      <td>211.1572</td>\n",
       "      <td>3</td>\n",
       "      <td>3</td>\n",
       "      <td>2</td>\n",
       "      <td>4.5</td>\n",
       "      <td>23908.67</td>\n",
       "      <td>...</td>\n",
       "      <td>NaN</td>\n",
       "      <td>NaN</td>\n",
       "      <td>NaN</td>\n",
       "      <td>NaN</td>\n",
       "      <td>NaN</td>\n",
       "      <td>1.0</td>\n",
       "      <td>NaN</td>\n",
       "      <td>NaN</td>\n",
       "      <td>NaN</td>\n",
       "      <td>NaN</td>\n",
       "    </tr>\n",
       "    <tr>\n",
       "      <th>4</th>\n",
       "      <td>14</td>\n",
       "      <td>101008000</td>\n",
       "      <td>5</td>\n",
       "      <td>54</td>\n",
       "      <td>211.1572</td>\n",
       "      <td>6</td>\n",
       "      <td>6</td>\n",
       "      <td>5</td>\n",
       "      <td>4.0</td>\n",
       "      <td>47330.50</td>\n",
       "      <td>...</td>\n",
       "      <td>1.0</td>\n",
       "      <td>NaN</td>\n",
       "      <td>NaN</td>\n",
       "      <td>NaN</td>\n",
       "      <td>NaN</td>\n",
       "      <td>3.0</td>\n",
       "      <td>NaN</td>\n",
       "      <td>NaN</td>\n",
       "      <td>NaN</td>\n",
       "      <td>1.0</td>\n",
       "    </tr>\n",
       "    <tr>\n",
       "      <th>...</th>\n",
       "      <td>...</td>\n",
       "      <td>...</td>\n",
       "      <td>...</td>\n",
       "      <td>...</td>\n",
       "      <td>...</td>\n",
       "      <td>...</td>\n",
       "      <td>...</td>\n",
       "      <td>...</td>\n",
       "      <td>...</td>\n",
       "      <td>...</td>\n",
       "      <td>...</td>\n",
       "      <td>...</td>\n",
       "      <td>...</td>\n",
       "      <td>...</td>\n",
       "      <td>...</td>\n",
       "      <td>...</td>\n",
       "      <td>...</td>\n",
       "      <td>...</td>\n",
       "      <td>...</td>\n",
       "      <td>...</td>\n",
       "      <td>...</td>\n",
       "    </tr>\n",
       "    <tr>\n",
       "      <th>41539</th>\n",
       "      <td>12</td>\n",
       "      <td>9804035000</td>\n",
       "      <td>1</td>\n",
       "      <td>6</td>\n",
       "      <td>392.6993</td>\n",
       "      <td>3</td>\n",
       "      <td>2</td>\n",
       "      <td>3</td>\n",
       "      <td>6.5</td>\n",
       "      <td>18426.62</td>\n",
       "      <td>...</td>\n",
       "      <td>0.0</td>\n",
       "      <td>0.0</td>\n",
       "      <td>0.0</td>\n",
       "      <td>0.0</td>\n",
       "      <td>0.0</td>\n",
       "      <td>1.0</td>\n",
       "      <td>0.0</td>\n",
       "      <td>0.0</td>\n",
       "      <td>0.0</td>\n",
       "      <td>0.0</td>\n",
       "    </tr>\n",
       "    <tr>\n",
       "      <th>41540</th>\n",
       "      <td>12</td>\n",
       "      <td>9804035000</td>\n",
       "      <td>2</td>\n",
       "      <td>33</td>\n",
       "      <td>392.6993</td>\n",
       "      <td>4</td>\n",
       "      <td>2</td>\n",
       "      <td>4</td>\n",
       "      <td>6.0</td>\n",
       "      <td>22886.67</td>\n",
       "      <td>...</td>\n",
       "      <td>0.0</td>\n",
       "      <td>0.0</td>\n",
       "      <td>0.0</td>\n",
       "      <td>0.0</td>\n",
       "      <td>0.0</td>\n",
       "      <td>3.0</td>\n",
       "      <td>0.0</td>\n",
       "      <td>0.0</td>\n",
       "      <td>0.0</td>\n",
       "      <td>0.0</td>\n",
       "    </tr>\n",
       "    <tr>\n",
       "      <th>41541</th>\n",
       "      <td>12</td>\n",
       "      <td>9804035000</td>\n",
       "      <td>3</td>\n",
       "      <td>58</td>\n",
       "      <td>392.6993</td>\n",
       "      <td>4</td>\n",
       "      <td>4</td>\n",
       "      <td>6</td>\n",
       "      <td>4.0</td>\n",
       "      <td>33292.75</td>\n",
       "      <td>...</td>\n",
       "      <td>0.0</td>\n",
       "      <td>0.0</td>\n",
       "      <td>0.0</td>\n",
       "      <td>0.0</td>\n",
       "      <td>0.0</td>\n",
       "      <td>1.0</td>\n",
       "      <td>0.0</td>\n",
       "      <td>0.0</td>\n",
       "      <td>0.0</td>\n",
       "      <td>0.0</td>\n",
       "    </tr>\n",
       "    <tr>\n",
       "      <th>41542</th>\n",
       "      <td>12</td>\n",
       "      <td>9804035000</td>\n",
       "      <td>4</td>\n",
       "      <td>83</td>\n",
       "      <td>392.6993</td>\n",
       "      <td>4</td>\n",
       "      <td>1</td>\n",
       "      <td>2</td>\n",
       "      <td>9.0</td>\n",
       "      <td>14388.89</td>\n",
       "      <td>...</td>\n",
       "      <td>0.0</td>\n",
       "      <td>0.0</td>\n",
       "      <td>0.0</td>\n",
       "      <td>0.0</td>\n",
       "      <td>0.0</td>\n",
       "      <td>2.0</td>\n",
       "      <td>0.0</td>\n",
       "      <td>0.0</td>\n",
       "      <td>0.0</td>\n",
       "      <td>0.0</td>\n",
       "    </tr>\n",
       "    <tr>\n",
       "      <th>41543</th>\n",
       "      <td>12</td>\n",
       "      <td>9804035000</td>\n",
       "      <td>5</td>\n",
       "      <td>110</td>\n",
       "      <td>392.6993</td>\n",
       "      <td>4</td>\n",
       "      <td>2</td>\n",
       "      <td>4</td>\n",
       "      <td>6.0</td>\n",
       "      <td>21433.00</td>\n",
       "      <td>...</td>\n",
       "      <td>0.0</td>\n",
       "      <td>0.0</td>\n",
       "      <td>0.0</td>\n",
       "      <td>0.0</td>\n",
       "      <td>0.0</td>\n",
       "      <td>1.0</td>\n",
       "      <td>0.0</td>\n",
       "      <td>0.0</td>\n",
       "      <td>0.0</td>\n",
       "      <td>0.0</td>\n",
       "    </tr>\n",
       "  </tbody>\n",
       "</table>\n",
       "<p>41544 rows × 2117 columns</p>\n",
       "</div>"
      ],
      "text/plain": [
       "       w_regn        w_id  w_shsn  w_hcn     rfact  toinc_decile  \\\n",
       "0          14   101008000       1      8  211.1572             9   \n",
       "1          14   101008000       2     19  211.1572             6   \n",
       "2          14   101008000       3     31  211.1572             2   \n",
       "3          14   101008000       4     42  211.1572             3   \n",
       "4          14   101008000       5     54  211.1572             6   \n",
       "...       ...         ...     ...    ...       ...           ...   \n",
       "41539      12  9804035000       1      6  392.6993             3   \n",
       "41540      12  9804035000       2     33  392.6993             4   \n",
       "41541      12  9804035000       3     58  392.6993             4   \n",
       "41542      12  9804035000       4     83  392.6993             4   \n",
       "41543      12  9804035000       5    110  392.6993             4   \n",
       "\n",
       "       pcinc_decile  reg_pcdecile  fsize      pcinc  ...  ref_qty  wash_qty  \\\n",
       "0                 9             9    4.0  120083.00  ...      1.0       1.0   \n",
       "1                 7             7    3.0   66078.33  ...      NaN       1.0   \n",
       "2                 1             1    6.0   13797.50  ...      NaN       NaN   \n",
       "3                 3             2    4.5   23908.67  ...      NaN       NaN   \n",
       "4                 6             5    4.0   47330.50  ...      1.0       NaN   \n",
       "...             ...           ...    ...        ...  ...      ...       ...   \n",
       "41539             2             3    6.5   18426.62  ...      0.0       0.0   \n",
       "41540             2             4    6.0   22886.67  ...      0.0       0.0   \n",
       "41541             4             6    4.0   33292.75  ...      0.0       0.0   \n",
       "41542             1             2    9.0   14388.89  ...      0.0       0.0   \n",
       "41543             2             4    6.0   21433.00  ...      0.0       0.0   \n",
       "\n",
       "       aircon_qty  car_qty  landline_qty  cellphone_qty  pc_qty  oven_qty  \\\n",
       "0             NaN      NaN           NaN            2.0     1.0       NaN   \n",
       "1             NaN      NaN           NaN            3.0     1.0       NaN   \n",
       "2             NaN      NaN           NaN            NaN     NaN       NaN   \n",
       "3             NaN      NaN           NaN            1.0     NaN       NaN   \n",
       "4             NaN      NaN           NaN            3.0     NaN       NaN   \n",
       "...           ...      ...           ...            ...     ...       ...   \n",
       "41539         0.0      0.0           0.0            1.0     0.0       0.0   \n",
       "41540         0.0      0.0           0.0            3.0     0.0       0.0   \n",
       "41541         0.0      0.0           0.0            1.0     0.0       0.0   \n",
       "41542         0.0      0.0           0.0            2.0     0.0       0.0   \n",
       "41543         0.0      0.0           0.0            1.0     0.0       0.0   \n",
       "\n",
       "       motor_banca_qty  motorcycle_qty  \n",
       "0                  NaN             1.0  \n",
       "1                  NaN             2.0  \n",
       "2                  NaN             NaN  \n",
       "3                  NaN             NaN  \n",
       "4                  NaN             1.0  \n",
       "...                ...             ...  \n",
       "41539              0.0             0.0  \n",
       "41540              0.0             0.0  \n",
       "41541              0.0             0.0  \n",
       "41542              0.0             0.0  \n",
       "41543              0.0             0.0  \n",
       "\n",
       "[41544 rows x 2117 columns]"
      ]
     },
     "execution_count": 60,
     "metadata": {},
     "output_type": "execute_result"
    }
   ],
   "source": [
    "df = pd.read_csv('df2015_complete.csv')\n",
    "df.drop('Unnamed: 0', axis = 1, inplace = True)\n",
    "df"
   ]
  },
  {
   "cell_type": "markdown",
   "id": "c03e0397",
   "metadata": {},
   "source": [
    "# Creating Dictionaries for Reference"
   ]
  },
  {
   "cell_type": "code",
   "execution_count": 61,
   "id": "042686e8",
   "metadata": {
    "ExecuteTime": {
     "end_time": "2021-09-16T05:20:55.669957Z",
     "start_time": "2021-09-16T05:20:55.657104Z"
    }
   },
   "outputs": [],
   "source": [
    "data_dict = pd.read_csv('fies2015_datadictionary.csv', names = ['col_name','new_name'],)[1:]\n",
    "data_dict.reset_index(inplace = True)\n",
    "data_dict.drop(data_dict.columns[0], inplace = True, axis = 1)\n",
    "data_dict = {k:v for k,v in zip(data_dict[data_dict.columns[0]],\n",
    "                    data_dict[data_dict.columns[1]])} \n",
    "data_dict_r = {v:k for k,v in data_dict.items()}"
   ]
  },
  {
   "cell_type": "code",
   "execution_count": 263,
   "id": "4834618a",
   "metadata": {
    "ExecuteTime": {
     "end_time": "2021-09-16T08:44:18.308941Z",
     "start_time": "2021-09-16T08:44:18.302891Z"
    }
   },
   "outputs": [],
   "source": [
    "W_REGN= {\n",
    "    1: 'I - Ilocos Region',\n",
    "    2: 'II - Cagayan Valley',\n",
    "    3: 'III - Central Luzon',\n",
    "    5: 'V - Bicol Region',\n",
    "    6: 'VI - Western Visayas',\n",
    "    7: 'VII - Central Visayas',\n",
    "    8: 'VIII - Eastern Visayas',\n",
    "    9: 'IX - Zasmboanga Peninsula',\n",
    "    10: 'X - Northern Mindanao',\n",
    "    11: 'XI - Davao Region',\n",
    "    12: 'XII - SOCCSKSARGEN',\n",
    "    13: 'NCR',\n",
    "    14: 'CAR',\n",
    "    15: 'ARMM',\n",
    "    16: 'Caraga',\n",
    "    41: 'IVA - CALABARZON',\n",
    "    42: 'IVB - MIMAROPA'\n",
    "}"
   ]
  },
  {
   "cell_type": "code",
   "execution_count": 264,
   "id": "275940a2",
   "metadata": {
    "ExecuteTime": {
     "end_time": "2021-09-16T08:44:31.873326Z",
     "start_time": "2021-09-16T08:44:19.085887Z"
    }
   },
   "outputs": [],
   "source": [
    "import pyreadstat\n",
    "fp2015 = 'FIES2015Complete.dta'\n",
    "df2015, meta2015 = pyreadstat.read_dta(fp2015)\n",
    "def get_meta(col_str):\n",
    "    '''Retrieves mapping of values from FIES Metadata'''\n",
    "    query = str.upper(col_str)\n",
    "    return meta2015.value_labels[query]"
   ]
  },
  {
   "cell_type": "markdown",
   "id": "003a2672",
   "metadata": {},
   "source": [
    "# Defining Statistical Functions"
   ]
  },
  {
   "cell_type": "code",
   "execution_count": 265,
   "id": "75d8e852",
   "metadata": {
    "ExecuteTime": {
     "end_time": "2021-09-16T08:44:31.881569Z",
     "start_time": "2021-09-16T08:44:31.876751Z"
    }
   },
   "outputs": [],
   "source": [
    "def test_for_normality(data):\n",
    "    from scipy.stats import shapiro\n",
    "    stat, p = shapiro(data)\n",
    "    #print('stat=%.3f, p=%.3f' % (stat, p))\n",
    "    if p > 0.05:\n",
    "        result = 'is probably Gaussian per Shapiro-Wilk Test'\n",
    "    else:\n",
    "        result = 'is probably NOT Gaussian per Shapiro-Wilk Test'\n",
    "    return result"
   ]
  },
  {
   "cell_type": "code",
   "execution_count": 266,
   "id": "4da07998",
   "metadata": {
    "ExecuteTime": {
     "end_time": "2021-09-16T08:44:31.890186Z",
     "start_time": "2021-09-16T08:44:31.884590Z"
    }
   },
   "outputs": [],
   "source": [
    "def test_for_signif_diff(data1, data2, normal=False, test = 'mann-whitney'):\n",
    "    if normal:\n",
    "        from scipy.stats import ttest_ind\n",
    "        stat, p = ttest_ind(data1, data2)\n",
    "        \n",
    "        if p > 0.05:\n",
    "            result = f'is probably statistically different per T-Test'\n",
    "        else:\n",
    "            result = f'is probably NOT statistically different per T-Test'\n",
    "        return result\n",
    "        \n",
    "    elif not normal:\n",
    "        from scipy.stats import kruskal\n",
    "        from scipy.stats import mannwhitneyu\n",
    "        stat, p1 = kruskal(data1, data2)\n",
    "        stat, p2 = mannwhitneyu(data1, data2)\n",
    "        \n",
    "        if test == 'mann-whitney':\n",
    "            p = p2\n",
    "        elif test == 'kruskal-wallis':\n",
    "            p = p1\n",
    "            \n",
    "        if p > 0.05:\n",
    "            result = f'is probably statistically different per {test}'\n",
    "        else:\n",
    "            result = f'is probably NOT statistically different per {test}'\n",
    "        return result"
   ]
  },
  {
   "cell_type": "markdown",
   "id": "ca360ec0",
   "metadata": {},
   "source": [
    "# Data Wrangling and Preprocessing"
   ]
  },
  {
   "cell_type": "markdown",
   "id": "3981c2b2",
   "metadata": {},
   "source": [
    "## Limiting Data to Single and One-man Households"
   ]
  },
  {
   "cell_type": "code",
   "execution_count": 267,
   "id": "0d5810e8",
   "metadata": {
    "ExecuteTime": {
     "end_time": "2021-09-16T08:44:31.917260Z",
     "start_time": "2021-09-16T08:44:31.892847Z"
    }
   },
   "outputs": [],
   "source": [
    "bachelors = df[(df.fsize == 1) & (df.ms == 1)]"
   ]
  },
  {
   "cell_type": "markdown",
   "id": "8ff6297b",
   "metadata": {},
   "source": [
    "## Health and Wellbeing"
   ]
  },
  {
   "cell_type": "code",
   "execution_count": 331,
   "id": "be9eb949",
   "metadata": {
    "ExecuteTime": {
     "end_time": "2021-09-16T09:02:44.143041Z",
     "start_time": "2021-09-16T09:02:44.138017Z"
    }
   },
   "outputs": [],
   "source": [
    "med_cols = [\n",
    "    'tmedprep',\n",
    "    'tmedpharm',\n",
    "    'tmednutri',\n",
    "]\n",
    "\n",
    "medservice_cols = [\n",
    "    'tmedgeneral',\n",
    "    'tmedspecial',\n",
    "    'tdental'\n",
    "]\n",
    "\n",
    "otherhw_cols = [\n",
    "    'tmiscpershair',\n",
    "    'tmiscinsurance',\n",
    "]"
   ]
  },
  {
   "cell_type": "code",
   "execution_count": 332,
   "id": "b601ccec",
   "metadata": {
    "ExecuteTime": {
     "end_time": "2021-09-16T09:02:44.834980Z",
     "start_time": "2021-09-16T09:02:44.824686Z"
    }
   },
   "outputs": [],
   "source": [
    "med_products = bachelors[med_cols].sum(axis = 1)\n",
    "med_services = bachelors[medservice_cols].sum(axis = 1)\n",
    "hw_misc = bachelors[otherhw_cols].sum(axis = 1)"
   ]
  },
  {
   "cell_type": "code",
   "execution_count": 333,
   "id": "5859568e",
   "metadata": {
    "ExecuteTime": {
     "end_time": "2021-09-16T09:02:45.244894Z",
     "start_time": "2021-09-16T09:02:45.206932Z"
    }
   },
   "outputs": [
    {
     "data": {
      "text/html": [
       "<div>\n",
       "<style scoped>\n",
       "    .dataframe tbody tr th:only-of-type {\n",
       "        vertical-align: middle;\n",
       "    }\n",
       "\n",
       "    .dataframe tbody tr th {\n",
       "        vertical-align: top;\n",
       "    }\n",
       "\n",
       "    .dataframe thead th {\n",
       "        text-align: right;\n",
       "    }\n",
       "</style>\n",
       "<table border=\"1\" class=\"dataframe\">\n",
       "  <thead>\n",
       "    <tr style=\"text-align: right;\">\n",
       "      <th></th>\n",
       "      <th>w_regn</th>\n",
       "      <th>sex</th>\n",
       "      <th>ttotex</th>\n",
       "      <th>med_products</th>\n",
       "      <th>med_products_pcntg</th>\n",
       "      <th>med_services</th>\n",
       "      <th>med_services_pcntg</th>\n",
       "      <th>hw_misc</th>\n",
       "      <th>hw_misc_pcntg</th>\n",
       "    </tr>\n",
       "  </thead>\n",
       "  <tbody>\n",
       "    <tr>\n",
       "      <th>77</th>\n",
       "      <td>14</td>\n",
       "      <td>1</td>\n",
       "      <td>59965.0</td>\n",
       "      <td>120</td>\n",
       "      <td>0.002001</td>\n",
       "      <td>0</td>\n",
       "      <td>0.000000</td>\n",
       "      <td>300</td>\n",
       "      <td>0.005003</td>\n",
       "    </tr>\n",
       "    <tr>\n",
       "      <th>197</th>\n",
       "      <td>14</td>\n",
       "      <td>2</td>\n",
       "      <td>32430.0</td>\n",
       "      <td>260</td>\n",
       "      <td>0.008017</td>\n",
       "      <td>0</td>\n",
       "      <td>0.000000</td>\n",
       "      <td>102</td>\n",
       "      <td>0.003145</td>\n",
       "    </tr>\n",
       "    <tr>\n",
       "      <th>214</th>\n",
       "      <td>14</td>\n",
       "      <td>2</td>\n",
       "      <td>80280.0</td>\n",
       "      <td>440</td>\n",
       "      <td>0.005481</td>\n",
       "      <td>0</td>\n",
       "      <td>0.000000</td>\n",
       "      <td>300</td>\n",
       "      <td>0.003737</td>\n",
       "    </tr>\n",
       "    <tr>\n",
       "      <th>251</th>\n",
       "      <td>14</td>\n",
       "      <td>1</td>\n",
       "      <td>37654.0</td>\n",
       "      <td>70</td>\n",
       "      <td>0.001859</td>\n",
       "      <td>0</td>\n",
       "      <td>0.000000</td>\n",
       "      <td>600</td>\n",
       "      <td>0.015935</td>\n",
       "    </tr>\n",
       "    <tr>\n",
       "      <th>257</th>\n",
       "      <td>14</td>\n",
       "      <td>1</td>\n",
       "      <td>39972.0</td>\n",
       "      <td>100</td>\n",
       "      <td>0.002502</td>\n",
       "      <td>0</td>\n",
       "      <td>0.000000</td>\n",
       "      <td>600</td>\n",
       "      <td>0.015011</td>\n",
       "    </tr>\n",
       "    <tr>\n",
       "      <th>...</th>\n",
       "      <td>...</td>\n",
       "      <td>...</td>\n",
       "      <td>...</td>\n",
       "      <td>...</td>\n",
       "      <td>...</td>\n",
       "      <td>...</td>\n",
       "      <td>...</td>\n",
       "      <td>...</td>\n",
       "      <td>...</td>\n",
       "    </tr>\n",
       "    <tr>\n",
       "      <th>41023</th>\n",
       "      <td>11</td>\n",
       "      <td>1</td>\n",
       "      <td>49671.0</td>\n",
       "      <td>0</td>\n",
       "      <td>0.000000</td>\n",
       "      <td>0</td>\n",
       "      <td>0.000000</td>\n",
       "      <td>360</td>\n",
       "      <td>0.007248</td>\n",
       "    </tr>\n",
       "    <tr>\n",
       "      <th>41024</th>\n",
       "      <td>11</td>\n",
       "      <td>1</td>\n",
       "      <td>75984.0</td>\n",
       "      <td>0</td>\n",
       "      <td>0.000000</td>\n",
       "      <td>5000</td>\n",
       "      <td>0.065803</td>\n",
       "      <td>390</td>\n",
       "      <td>0.005133</td>\n",
       "    </tr>\n",
       "    <tr>\n",
       "      <th>41321</th>\n",
       "      <td>9</td>\n",
       "      <td>1</td>\n",
       "      <td>56456.0</td>\n",
       "      <td>1084</td>\n",
       "      <td>0.019201</td>\n",
       "      <td>0</td>\n",
       "      <td>0.000000</td>\n",
       "      <td>1800</td>\n",
       "      <td>0.031883</td>\n",
       "    </tr>\n",
       "    <tr>\n",
       "      <th>41435</th>\n",
       "      <td>9</td>\n",
       "      <td>1</td>\n",
       "      <td>121491.0</td>\n",
       "      <td>7876</td>\n",
       "      <td>0.064828</td>\n",
       "      <td>1500</td>\n",
       "      <td>0.012347</td>\n",
       "      <td>390</td>\n",
       "      <td>0.003210</td>\n",
       "    </tr>\n",
       "    <tr>\n",
       "      <th>41514</th>\n",
       "      <td>12</td>\n",
       "      <td>2</td>\n",
       "      <td>96246.0</td>\n",
       "      <td>1560</td>\n",
       "      <td>0.016208</td>\n",
       "      <td>1000</td>\n",
       "      <td>0.010390</td>\n",
       "      <td>600</td>\n",
       "      <td>0.006234</td>\n",
       "    </tr>\n",
       "  </tbody>\n",
       "</table>\n",
       "<p>737 rows × 9 columns</p>\n",
       "</div>"
      ],
      "text/plain": [
       "       w_regn  sex    ttotex  med_products  med_products_pcntg  med_services  \\\n",
       "77         14    1   59965.0           120            0.002001             0   \n",
       "197        14    2   32430.0           260            0.008017             0   \n",
       "214        14    2   80280.0           440            0.005481             0   \n",
       "251        14    1   37654.0            70            0.001859             0   \n",
       "257        14    1   39972.0           100            0.002502             0   \n",
       "...       ...  ...       ...           ...                 ...           ...   \n",
       "41023      11    1   49671.0             0            0.000000             0   \n",
       "41024      11    1   75984.0             0            0.000000          5000   \n",
       "41321       9    1   56456.0          1084            0.019201             0   \n",
       "41435       9    1  121491.0          7876            0.064828          1500   \n",
       "41514      12    2   96246.0          1560            0.016208          1000   \n",
       "\n",
       "       med_services_pcntg  hw_misc  hw_misc_pcntg  \n",
       "77               0.000000      300       0.005003  \n",
       "197              0.000000      102       0.003145  \n",
       "214              0.000000      300       0.003737  \n",
       "251              0.000000      600       0.015935  \n",
       "257              0.000000      600       0.015011  \n",
       "...                   ...      ...            ...  \n",
       "41023            0.000000      360       0.007248  \n",
       "41024            0.065803      390       0.005133  \n",
       "41321            0.000000     1800       0.031883  \n",
       "41435            0.012347      390       0.003210  \n",
       "41514            0.010390      600       0.006234  \n",
       "\n",
       "[737 rows x 9 columns]"
      ]
     },
     "execution_count": 333,
     "metadata": {},
     "output_type": "execute_result"
    }
   ],
   "source": [
    "df_hw = bachelors[['w_regn','sex','ttotex']]\n",
    "df_hw['med_products'] = med_products\n",
    "df_hw['med_products_pcntg'] = med_products/df_hw.ttotex\n",
    "df_hw['med_services'] = med_services\n",
    "df_hw['med_services_pcntg'] = med_services/df_hw.ttotex\n",
    "df_hw['hw_misc'] = hw_misc \n",
    "df_hw['hw_misc_pcntg'] = hw_misc/df_hw.ttotex\n",
    "df_hw"
   ]
  },
  {
   "cell_type": "markdown",
   "id": "dd7c1931",
   "metadata": {},
   "source": [
    "However, from initial inspection of the Health and Wellbeing DataFrame our team had noticed that there were a limited number of correspondents that availed of medical services. Figure N, shows the total number of people that availed of these services per region. "
   ]
  },
  {
   "cell_type": "code",
   "execution_count": 363,
   "id": "64f42891",
   "metadata": {
    "ExecuteTime": {
     "end_time": "2021-09-16T09:33:37.447489Z",
     "start_time": "2021-09-16T09:33:37.097987Z"
    }
   },
   "outputs": [
    {
     "data": {
      "image/png": "[encoded data removed]",
      "text/plain": [
       "<Figure size 720x576 with 1 Axes>"
      ]
     },
     "metadata": {
      "needs_background": "light"
     },
     "output_type": "display_data"
    }
   ],
   "source": [
    "total_members = df_hw.groupby(['w_regn']).med_services.count()\n",
    "med_service_df = pd.DataFrame({'Availed':availed_services,\n",
    "                               'Members':total_members}).reset_index()\n",
    "med_service_df['w_regn'] = med_service_df['w_regn'].map(W_REGN)\n",
    "\n",
    "sorter = [\n",
    "    'I - Ilocos Region',\n",
    "    'II - Cagayan Valley',\n",
    "    'III - Central Luzon',\n",
    "    'IVA - CALABARZON',\n",
    "    'IVB - MIMAROPA',\n",
    "    'NCR',\n",
    "    'CAR',\n",
    "    'V - Bicol Region',\n",
    "    'VI - Western Visayas',\n",
    "    'VII - Central Visayas',\n",
    "    'VIII - Eastern Visayas',\n",
    "    'IX - Zasmboanga Peninsula',\n",
    "    'X - Northern Mindanao',\n",
    "    'XI - Davao Region',\n",
    "    'XII - SOCCSKSARGEN',\n",
    "    'ARMM',\n",
    "    'Caraga',\n",
    "]\n",
    "sorterIndex = dict(zip(sorter, range(len(sorter))))\n",
    "med_service_df['Tm_Rank'] = med_service_df['w_regn'].map(sorterIndex)\n",
    "med_service_df.sort_values('Tm_Rank', ascending = False, inplace = True)\n",
    "\n",
    "width = 0.3\n",
    "fig, ax = plt.subplots(figsize = (10,8))\n",
    "ax.barh(med_service_df['w_regn'],\n",
    "        med_service_df['Availed'],\n",
    "        zorder = 2, label = 'Availed',\n",
    "        color = '#8eacd0')\n",
    "ax.barh(med_service_df['w_regn'],\n",
    "        med_service_df['Members'],\n",
    "        label = 'Not Availed',\n",
    "        color = 'gainsboro')\n",
    "plt.legend()\n",
    "pass"
   ]
  },
  {
   "cell_type": "markdown",
   "id": "64dec82e",
   "metadata": {},
   "source": [
    "### High-Level"
   ]
  },
  {
   "cell_type": "markdown",
   "id": "524b7df0",
   "metadata": {},
   "source": [
    "#### Checking for Normality"
   ]
  },
  {
   "cell_type": "code",
   "execution_count": 335,
   "id": "afa3aea2",
   "metadata": {
    "ExecuteTime": {
     "end_time": "2021-09-16T09:02:49.068589Z",
     "start_time": "2021-09-16T09:02:49.057913Z"
    }
   },
   "outputs": [
    {
     "name": "stdout",
     "output_type": "stream",
     "text": [
      "737\n",
      "557\n"
     ]
    }
   ],
   "source": [
    "df_hw = df_hw.copy()\n",
    "print(len(df_hw))\n",
    "for p in pcntg_cols:\n",
    "    df_hw = df_hw[df_hw[p] != 0]\n",
    "print(len(df_hw))"
   ]
  },
  {
   "cell_type": "code",
   "execution_count": 336,
   "id": "d364b7f5",
   "metadata": {
    "ExecuteTime": {
     "end_time": "2021-09-16T09:02:49.560164Z",
     "start_time": "2021-09-16T09:02:49.551216Z"
    }
   },
   "outputs": [
    {
     "name": "stdout",
     "output_type": "stream",
     "text": [
      "med_products_pcntg is probably NOT Gaussian per Shapiro-Wilk Test\n",
      "hw_misc_pcntg is probably NOT Gaussian per Shapiro-Wilk Test\n"
     ]
    }
   ],
   "source": [
    "pcntg_cols = ['med_products_pcntg',\n",
    "              #'med_services_pcntg',\n",
    "              'hw_misc_pcntg']\n",
    "for pc in pcntg_cols:\n",
    "    print(pc,test_for_normality(df_hw[pc]))"
   ]
  },
  {
   "cell_type": "markdown",
   "id": "0bde0aac",
   "metadata": {},
   "source": [
    "#### Looking at Difference with respect to Sex"
   ]
  },
  {
   "cell_type": "code",
   "execution_count": 344,
   "id": "334d4a43",
   "metadata": {
    "ExecuteTime": {
     "end_time": "2021-09-16T09:05:25.740359Z",
     "start_time": "2021-09-16T09:05:25.722521Z"
    }
   },
   "outputs": [
    {
     "name": "stdout",
     "output_type": "stream",
     "text": [
      "med_products_pcntg is probably NOT statistically different per mann-whitney\n",
      "hw_misc_pcntg is probably statistically different per mann-whitney\n"
     ]
    }
   ],
   "source": [
    "for pc in pcntg_cols:\n",
    "    male = np.log(df_hw[df_hw.sex == 1][pc])\n",
    "    female = np.log(df_hw[df_hw.sex == 2][pc])\n",
    "    print(pc,test_for_signif_diff(male, female))"
   ]
  },
  {
   "cell_type": "code",
   "execution_count": 345,
   "id": "d08722ff",
   "metadata": {
    "ExecuteTime": {
     "end_time": "2021-09-16T09:05:32.880006Z",
     "start_time": "2021-09-16T09:05:32.866215Z"
    }
   },
   "outputs": [
    {
     "data": {
      "text/html": [
       "<div>\n",
       "<style scoped>\n",
       "    .dataframe tbody tr th:only-of-type {\n",
       "        vertical-align: middle;\n",
       "    }\n",
       "\n",
       "    .dataframe tbody tr th {\n",
       "        vertical-align: top;\n",
       "    }\n",
       "\n",
       "    .dataframe thead th {\n",
       "        text-align: right;\n",
       "    }\n",
       "</style>\n",
       "<table border=\"1\" class=\"dataframe\">\n",
       "  <thead>\n",
       "    <tr style=\"text-align: right;\">\n",
       "      <th></th>\n",
       "      <th>med_products_pcntg</th>\n",
       "      <th>hw_misc_pcntg</th>\n",
       "    </tr>\n",
       "    <tr>\n",
       "      <th>sex</th>\n",
       "      <th></th>\n",
       "      <th></th>\n",
       "    </tr>\n",
       "  </thead>\n",
       "  <tbody>\n",
       "    <tr>\n",
       "      <th>1</th>\n",
       "      <td>0.018565</td>\n",
       "      <td>0.015401</td>\n",
       "    </tr>\n",
       "    <tr>\n",
       "      <th>2</th>\n",
       "      <td>0.061428</td>\n",
       "      <td>0.024497</td>\n",
       "    </tr>\n",
       "  </tbody>\n",
       "</table>\n",
       "</div>"
      ],
      "text/plain": [
       "     med_products_pcntg  hw_misc_pcntg\n",
       "sex                                   \n",
       "1              0.018565       0.015401\n",
       "2              0.061428       0.024497"
      ]
     },
     "execution_count": 345,
     "metadata": {},
     "output_type": "execute_result"
    }
   ],
   "source": [
    "df_hw.groupby('sex')['med_products_pcntg',\n",
    "                     'hw_misc_pcntg'].mean()"
   ]
  },
  {
   "cell_type": "markdown",
   "id": "f184ef9e",
   "metadata": {},
   "source": [
    "### Per Region"
   ]
  },
  {
   "cell_type": "markdown",
   "id": "52df4adf",
   "metadata": {},
   "source": [
    "#### Checking for Normality"
   ]
  },
  {
   "cell_type": "code",
   "execution_count": 392,
   "id": "a85aec24",
   "metadata": {
    "ExecuteTime": {
     "end_time": "2021-09-16T10:37:47.177993Z",
     "start_time": "2021-09-16T10:37:47.129110Z"
    }
   },
   "outputs": [
    {
     "data": {
      "text/html": [
       "<div>\n",
       "<style scoped>\n",
       "    .dataframe tbody tr th:only-of-type {\n",
       "        vertical-align: middle;\n",
       "    }\n",
       "\n",
       "    .dataframe tbody tr th {\n",
       "        vertical-align: top;\n",
       "    }\n",
       "\n",
       "    .dataframe thead th {\n",
       "        text-align: right;\n",
       "    }\n",
       "</style>\n",
       "<table border=\"1\" class=\"dataframe\">\n",
       "  <thead>\n",
       "    <tr style=\"text-align: right;\">\n",
       "      <th></th>\n",
       "      <th>Regn</th>\n",
       "      <th>med_products_pcntg</th>\n",
       "      <th>hw_misc_pcntg</th>\n",
       "    </tr>\n",
       "  </thead>\n",
       "  <tbody>\n",
       "    <tr>\n",
       "      <th>0</th>\n",
       "      <td>I - Ilocos Region</td>\n",
       "      <td>NOT Gaussian</td>\n",
       "      <td>NOT Gaussian</td>\n",
       "    </tr>\n",
       "    <tr>\n",
       "      <th>1</th>\n",
       "      <td>II - Cagayan Valley</td>\n",
       "      <td>NOT Gaussian</td>\n",
       "      <td>NOT Gaussian</td>\n",
       "    </tr>\n",
       "    <tr>\n",
       "      <th>2</th>\n",
       "      <td>III - Central Luzon</td>\n",
       "      <td>NOT Gaussian</td>\n",
       "      <td>NOT Gaussian</td>\n",
       "    </tr>\n",
       "    <tr>\n",
       "      <th>3</th>\n",
       "      <td>V - Bicol Region</td>\n",
       "      <td>NOT Gaussian</td>\n",
       "      <td>NOT Gaussian</td>\n",
       "    </tr>\n",
       "    <tr>\n",
       "      <th>4</th>\n",
       "      <td>VI - Western Visayas</td>\n",
       "      <td>NOT Gaussian</td>\n",
       "      <td>NOT Gaussian</td>\n",
       "    </tr>\n",
       "    <tr>\n",
       "      <th>5</th>\n",
       "      <td>VII - Central Visayas</td>\n",
       "      <td>NOT Gaussian</td>\n",
       "      <td>NOT Gaussian</td>\n",
       "    </tr>\n",
       "    <tr>\n",
       "      <th>6</th>\n",
       "      <td>VIII - Eastern Visayas</td>\n",
       "      <td>NOT Gaussian</td>\n",
       "      <td>NOT Gaussian</td>\n",
       "    </tr>\n",
       "    <tr>\n",
       "      <th>7</th>\n",
       "      <td>IX - Zasmboanga Peninsula</td>\n",
       "      <td>NOT Gaussian</td>\n",
       "      <td>NOT Gaussian</td>\n",
       "    </tr>\n",
       "    <tr>\n",
       "      <th>8</th>\n",
       "      <td>X - Northern Mindanao</td>\n",
       "      <td>NOT Gaussian</td>\n",
       "      <td>NOT Gaussian</td>\n",
       "    </tr>\n",
       "    <tr>\n",
       "      <th>9</th>\n",
       "      <td>XI - Davao Region</td>\n",
       "      <td>NOT Gaussian</td>\n",
       "      <td>NOT Gaussian</td>\n",
       "    </tr>\n",
       "    <tr>\n",
       "      <th>10</th>\n",
       "      <td>XII - SOCCSKSARGEN</td>\n",
       "      <td>NOT Gaussian</td>\n",
       "      <td>NOT Gaussian</td>\n",
       "    </tr>\n",
       "    <tr>\n",
       "      <th>11</th>\n",
       "      <td>NCR</td>\n",
       "      <td>NOT Gaussian</td>\n",
       "      <td>NOT Gaussian</td>\n",
       "    </tr>\n",
       "    <tr>\n",
       "      <th>12</th>\n",
       "      <td>CAR</td>\n",
       "      <td>NOT Gaussian</td>\n",
       "      <td>NOT Gaussian</td>\n",
       "    </tr>\n",
       "    <tr>\n",
       "      <th>13</th>\n",
       "      <td>ARMM</td>\n",
       "      <td>Gaussian</td>\n",
       "      <td>NOT Gaussian</td>\n",
       "    </tr>\n",
       "    <tr>\n",
       "      <th>14</th>\n",
       "      <td>Caraga</td>\n",
       "      <td>NOT Gaussian</td>\n",
       "      <td>NOT Gaussian</td>\n",
       "    </tr>\n",
       "    <tr>\n",
       "      <th>15</th>\n",
       "      <td>IVA - CALABARZON</td>\n",
       "      <td>NOT Gaussian</td>\n",
       "      <td>NOT Gaussian</td>\n",
       "    </tr>\n",
       "    <tr>\n",
       "      <th>16</th>\n",
       "      <td>IVB - MIMAROPA</td>\n",
       "      <td>NOT Gaussian</td>\n",
       "      <td>NOT Gaussian</td>\n",
       "    </tr>\n",
       "  </tbody>\n",
       "</table>\n",
       "</div>"
      ],
      "text/plain": [
       "                         Regn med_products_pcntg hw_misc_pcntg\n",
       "0           I - Ilocos Region       NOT Gaussian  NOT Gaussian\n",
       "1         II - Cagayan Valley       NOT Gaussian  NOT Gaussian\n",
       "2         III - Central Luzon       NOT Gaussian  NOT Gaussian\n",
       "3            V - Bicol Region       NOT Gaussian  NOT Gaussian\n",
       "4        VI - Western Visayas       NOT Gaussian  NOT Gaussian\n",
       "5       VII - Central Visayas       NOT Gaussian  NOT Gaussian\n",
       "6      VIII - Eastern Visayas       NOT Gaussian  NOT Gaussian\n",
       "7   IX - Zasmboanga Peninsula       NOT Gaussian  NOT Gaussian\n",
       "8       X - Northern Mindanao       NOT Gaussian  NOT Gaussian\n",
       "9           XI - Davao Region       NOT Gaussian  NOT Gaussian\n",
       "10         XII - SOCCSKSARGEN       NOT Gaussian  NOT Gaussian\n",
       "11                        NCR       NOT Gaussian  NOT Gaussian\n",
       "12                        CAR       NOT Gaussian  NOT Gaussian\n",
       "13                       ARMM           Gaussian  NOT Gaussian\n",
       "14                     Caraga       NOT Gaussian  NOT Gaussian\n",
       "15           IVA - CALABARZON       NOT Gaussian  NOT Gaussian\n",
       "16             IVB - MIMAROPA       NOT Gaussian  NOT Gaussian"
      ]
     },
     "execution_count": 392,
     "metadata": {},
     "output_type": "execute_result"
    }
   ],
   "source": [
    "df_hw_reg_norm = pd.DataFrame()\n",
    "df_hw_reg_norm['Regn'] = sorted(set(df_hw.w_regn))\n",
    "df_hw_reg_norm['Regn'] = df_hw_reg_norm['Regn'].map(W_REGN)\n",
    "pcntg_cols = ['med_products_pcntg', 'hw_misc_pcntg']\n",
    "for pc in pcntg_cols:\n",
    "    test_vals = []\n",
    "    for rgn in sorted(set(df_hw.w_regn)):\n",
    "        df_reg = df_hw[df_hw['w_regn'] == rgn]\n",
    "        test = test_for_normality(df_reg[pc])\n",
    "        if 'NOT' in test:\n",
    "            test_vals.append('NOT Gaussian')\n",
    "        else:\n",
    "            test_vals.append('Gaussian')\n",
    "    df_hw_reg_norm[pc] = test_vals\n",
    "df_hw_reg_norm"
   ]
  },
  {
   "cell_type": "markdown",
   "id": "7bb20f9d",
   "metadata": {},
   "source": [
    "#### Looking at Difference with respect to Sex"
   ]
  },
  {
   "cell_type": "code",
   "execution_count": 349,
   "id": "0b371c04",
   "metadata": {
    "ExecuteTime": {
     "end_time": "2021-09-16T09:07:15.741425Z",
     "start_time": "2021-09-16T09:07:15.593310Z"
    }
   },
   "outputs": [
    {
     "data": {
      "text/html": [
       "<div>\n",
       "<style scoped>\n",
       "    .dataframe tbody tr th:only-of-type {\n",
       "        vertical-align: middle;\n",
       "    }\n",
       "\n",
       "    .dataframe tbody tr th {\n",
       "        vertical-align: top;\n",
       "    }\n",
       "\n",
       "    .dataframe thead th {\n",
       "        text-align: right;\n",
       "    }\n",
       "</style>\n",
       "<table border=\"1\" class=\"dataframe\">\n",
       "  <thead>\n",
       "    <tr style=\"text-align: right;\">\n",
       "      <th></th>\n",
       "      <th>Regn</th>\n",
       "      <th>med_products_pcntg</th>\n",
       "      <th>hw_misc_pcntg</th>\n",
       "    </tr>\n",
       "  </thead>\n",
       "  <tbody>\n",
       "    <tr>\n",
       "      <th>0</th>\n",
       "      <td>I - Ilocos Region</td>\n",
       "      <td>Significant</td>\n",
       "      <td>Significant</td>\n",
       "    </tr>\n",
       "    <tr>\n",
       "      <th>1</th>\n",
       "      <td>II - Cagayan Valley</td>\n",
       "      <td>Significant</td>\n",
       "      <td>NOT significant</td>\n",
       "    </tr>\n",
       "    <tr>\n",
       "      <th>2</th>\n",
       "      <td>III - Central Luzon</td>\n",
       "      <td>Significant</td>\n",
       "      <td>Significant</td>\n",
       "    </tr>\n",
       "    <tr>\n",
       "      <th>3</th>\n",
       "      <td>V - Bicol Region</td>\n",
       "      <td>Significant</td>\n",
       "      <td>Significant</td>\n",
       "    </tr>\n",
       "    <tr>\n",
       "      <th>4</th>\n",
       "      <td>VI - Western Visayas</td>\n",
       "      <td>NOT significant</td>\n",
       "      <td>NOT significant</td>\n",
       "    </tr>\n",
       "    <tr>\n",
       "      <th>5</th>\n",
       "      <td>VII - Central Visayas</td>\n",
       "      <td>Significant</td>\n",
       "      <td>Significant</td>\n",
       "    </tr>\n",
       "    <tr>\n",
       "      <th>6</th>\n",
       "      <td>VIII - Eastern Visayas</td>\n",
       "      <td>NOT significant</td>\n",
       "      <td>Significant</td>\n",
       "    </tr>\n",
       "    <tr>\n",
       "      <th>7</th>\n",
       "      <td>IX - Zasmboanga Peninsula</td>\n",
       "      <td>Significant</td>\n",
       "      <td>Significant</td>\n",
       "    </tr>\n",
       "    <tr>\n",
       "      <th>8</th>\n",
       "      <td>X - Northern Mindanao</td>\n",
       "      <td>NOT significant</td>\n",
       "      <td>Significant</td>\n",
       "    </tr>\n",
       "    <tr>\n",
       "      <th>9</th>\n",
       "      <td>XI - Davao Region</td>\n",
       "      <td>NOT significant</td>\n",
       "      <td>Significant</td>\n",
       "    </tr>\n",
       "    <tr>\n",
       "      <th>10</th>\n",
       "      <td>XII - SOCCSKSARGEN</td>\n",
       "      <td>NOT significant</td>\n",
       "      <td>Significant</td>\n",
       "    </tr>\n",
       "    <tr>\n",
       "      <th>11</th>\n",
       "      <td>NCR</td>\n",
       "      <td>NOT significant</td>\n",
       "      <td>Significant</td>\n",
       "    </tr>\n",
       "    <tr>\n",
       "      <th>12</th>\n",
       "      <td>CAR</td>\n",
       "      <td>Significant</td>\n",
       "      <td>NOT significant</td>\n",
       "    </tr>\n",
       "    <tr>\n",
       "      <th>13</th>\n",
       "      <td>ARMM</td>\n",
       "      <td>NOT significant</td>\n",
       "      <td>Significant</td>\n",
       "    </tr>\n",
       "    <tr>\n",
       "      <th>14</th>\n",
       "      <td>Caraga</td>\n",
       "      <td>Significant</td>\n",
       "      <td>NOT significant</td>\n",
       "    </tr>\n",
       "    <tr>\n",
       "      <th>15</th>\n",
       "      <td>IVA - CALABARZON</td>\n",
       "      <td>Significant</td>\n",
       "      <td>Significant</td>\n",
       "    </tr>\n",
       "    <tr>\n",
       "      <th>16</th>\n",
       "      <td>IVB - MIMAROPA</td>\n",
       "      <td>NOT significant</td>\n",
       "      <td>Significant</td>\n",
       "    </tr>\n",
       "  </tbody>\n",
       "</table>\n",
       "</div>"
      ],
      "text/plain": [
       "                         Regn med_products_pcntg    hw_misc_pcntg\n",
       "0           I - Ilocos Region        Significant      Significant\n",
       "1         II - Cagayan Valley        Significant  NOT significant\n",
       "2         III - Central Luzon        Significant      Significant\n",
       "3            V - Bicol Region        Significant      Significant\n",
       "4        VI - Western Visayas    NOT significant  NOT significant\n",
       "5       VII - Central Visayas        Significant      Significant\n",
       "6      VIII - Eastern Visayas    NOT significant      Significant\n",
       "7   IX - Zasmboanga Peninsula        Significant      Significant\n",
       "8       X - Northern Mindanao    NOT significant      Significant\n",
       "9           XI - Davao Region    NOT significant      Significant\n",
       "10         XII - SOCCSKSARGEN    NOT significant      Significant\n",
       "11                        NCR    NOT significant      Significant\n",
       "12                        CAR        Significant  NOT significant\n",
       "13                       ARMM    NOT significant      Significant\n",
       "14                     Caraga        Significant  NOT significant\n",
       "15           IVA - CALABARZON        Significant      Significant\n",
       "16             IVB - MIMAROPA    NOT significant      Significant"
      ]
     },
     "execution_count": 349,
     "metadata": {},
     "output_type": "execute_result"
    }
   ],
   "source": [
    "df_hw_reg_diff = pd.DataFrame()\n",
    "df_hw_reg_diff['Regn'] = sorted(set(df_hw.w_regn))\n",
    "df_hw_reg_diff['Regn'] = df_hw_reg_diff['Regn'].map(W_REGN)\n",
    "pcntg_cols = ['med_products_pcntg', 'hw_misc_pcntg']\n",
    "for pc in pcntg_cols:\n",
    "    test_vals = []\n",
    "    for rgn in sorted(set(df_hw.w_regn)):\n",
    "        df_reg = df_hw[df_hw['w_regn'] == rgn]\n",
    "        if 'NOT' in test_for_normality(df_reg[pc]):\n",
    "            normal = False\n",
    "        else:\n",
    "            normal = True\n",
    "        male = df_reg[df_reg.sex == 1][pc]\n",
    "        female = df_reg[df_reg.sex == 2][pc]\n",
    "        test = test_for_signif_diff(male, female, normal)\n",
    "        if 'NOT' in test:\n",
    "            test_vals.append('NOT significant')\n",
    "        else:\n",
    "            test_vals.append('Significant')\n",
    "    df_hw_reg_diff[pc] = test_vals\n",
    "df_hw_reg_diff"
   ]
  },
  {
   "cell_type": "markdown",
   "id": "68eff386",
   "metadata": {},
   "source": [
    "## Misc. Expenses"
   ]
  },
  {
   "cell_type": "code",
   "execution_count": 126,
   "id": "e4e842e2",
   "metadata": {
    "ExecuteTime": {
     "end_time": "2021-09-16T06:45:42.454641Z",
     "start_time": "2021-09-16T06:45:42.448044Z"
    }
   },
   "outputs": [],
   "source": [
    "specoc_cols = [\n",
    "    'tfoodspec',\n",
    "    'talcospec',\n",
    "    'tservicespec',\n",
    "]\n",
    "\n",
    "gadget_cols = [\n",
    "    'tcellphone',\n",
    "    'tsingalong',\n",
    "    'tcameras',\n",
    "    'tpc',\n",
    "    'tnotebook',\n",
    "]\n",
    "\n",
    "nongadget_cols = [\n",
    "    'tcgarment',\n",
    "    'tfootwear',\n",
    "    'tmiscjewelry',\n",
    "]"
   ]
  },
  {
   "cell_type": "code",
   "execution_count": 127,
   "id": "474b77e2",
   "metadata": {
    "ExecuteTime": {
     "end_time": "2021-09-16T06:45:43.436147Z",
     "start_time": "2021-09-16T06:45:43.424348Z"
    }
   },
   "outputs": [],
   "source": [
    "spec_expense = bachelors[specoc_cols].sum(axis = 1)\n",
    "gadget_expense = bachelors[gadget_cols].sum(axis = 1)\n",
    "fashion_misc = bachelors[nongadget_cols].sum(axis = 1)"
   ]
  },
  {
   "cell_type": "code",
   "execution_count": 128,
   "id": "c2732234",
   "metadata": {
    "ExecuteTime": {
     "end_time": "2021-09-16T06:47:06.453023Z",
     "start_time": "2021-09-16T06:47:06.407067Z"
    }
   },
   "outputs": [
    {
     "data": {
      "text/html": [
       "<div>\n",
       "<style scoped>\n",
       "    .dataframe tbody tr th:only-of-type {\n",
       "        vertical-align: middle;\n",
       "    }\n",
       "\n",
       "    .dataframe tbody tr th {\n",
       "        vertical-align: top;\n",
       "    }\n",
       "\n",
       "    .dataframe thead th {\n",
       "        text-align: right;\n",
       "    }\n",
       "</style>\n",
       "<table border=\"1\" class=\"dataframe\">\n",
       "  <thead>\n",
       "    <tr style=\"text-align: right;\">\n",
       "      <th></th>\n",
       "      <th>w_regn</th>\n",
       "      <th>sex</th>\n",
       "      <th>ttotex</th>\n",
       "      <th>spec_expense</th>\n",
       "      <th>spec_expense_pcntg</th>\n",
       "      <th>gadget_expense</th>\n",
       "      <th>gadget_expense_pcntg</th>\n",
       "      <th>fashion_misc</th>\n",
       "      <th>fashion_misc_pcntg</th>\n",
       "    </tr>\n",
       "  </thead>\n",
       "  <tbody>\n",
       "    <tr>\n",
       "      <th>77</th>\n",
       "      <td>14</td>\n",
       "      <td>1</td>\n",
       "      <td>59965.0</td>\n",
       "      <td>500</td>\n",
       "      <td>0.008338</td>\n",
       "      <td>0</td>\n",
       "      <td>0.000000</td>\n",
       "      <td>600</td>\n",
       "      <td>0.010006</td>\n",
       "    </tr>\n",
       "    <tr>\n",
       "      <th>197</th>\n",
       "      <td>14</td>\n",
       "      <td>2</td>\n",
       "      <td>32430.0</td>\n",
       "      <td>0</td>\n",
       "      <td>0.000000</td>\n",
       "      <td>0</td>\n",
       "      <td>0.000000</td>\n",
       "      <td>1220</td>\n",
       "      <td>0.037619</td>\n",
       "    </tr>\n",
       "    <tr>\n",
       "      <th>214</th>\n",
       "      <td>14</td>\n",
       "      <td>2</td>\n",
       "      <td>80280.0</td>\n",
       "      <td>1000</td>\n",
       "      <td>0.012456</td>\n",
       "      <td>0</td>\n",
       "      <td>0.000000</td>\n",
       "      <td>950</td>\n",
       "      <td>0.011834</td>\n",
       "    </tr>\n",
       "    <tr>\n",
       "      <th>251</th>\n",
       "      <td>14</td>\n",
       "      <td>1</td>\n",
       "      <td>37654.0</td>\n",
       "      <td>0</td>\n",
       "      <td>0.000000</td>\n",
       "      <td>0</td>\n",
       "      <td>0.000000</td>\n",
       "      <td>450</td>\n",
       "      <td>0.011951</td>\n",
       "    </tr>\n",
       "    <tr>\n",
       "      <th>257</th>\n",
       "      <td>14</td>\n",
       "      <td>1</td>\n",
       "      <td>39972.0</td>\n",
       "      <td>0</td>\n",
       "      <td>0.000000</td>\n",
       "      <td>0</td>\n",
       "      <td>0.000000</td>\n",
       "      <td>200</td>\n",
       "      <td>0.005004</td>\n",
       "    </tr>\n",
       "    <tr>\n",
       "      <th>...</th>\n",
       "      <td>...</td>\n",
       "      <td>...</td>\n",
       "      <td>...</td>\n",
       "      <td>...</td>\n",
       "      <td>...</td>\n",
       "      <td>...</td>\n",
       "      <td>...</td>\n",
       "      <td>...</td>\n",
       "      <td>...</td>\n",
       "    </tr>\n",
       "    <tr>\n",
       "      <th>41023</th>\n",
       "      <td>11</td>\n",
       "      <td>1</td>\n",
       "      <td>49671.0</td>\n",
       "      <td>4000</td>\n",
       "      <td>0.080530</td>\n",
       "      <td>0</td>\n",
       "      <td>0.000000</td>\n",
       "      <td>2710</td>\n",
       "      <td>0.054559</td>\n",
       "    </tr>\n",
       "    <tr>\n",
       "      <th>41024</th>\n",
       "      <td>11</td>\n",
       "      <td>1</td>\n",
       "      <td>75984.0</td>\n",
       "      <td>8000</td>\n",
       "      <td>0.105285</td>\n",
       "      <td>0</td>\n",
       "      <td>0.000000</td>\n",
       "      <td>4440</td>\n",
       "      <td>0.058433</td>\n",
       "    </tr>\n",
       "    <tr>\n",
       "      <th>41321</th>\n",
       "      <td>9</td>\n",
       "      <td>1</td>\n",
       "      <td>56456.0</td>\n",
       "      <td>0</td>\n",
       "      <td>0.000000</td>\n",
       "      <td>0</td>\n",
       "      <td>0.000000</td>\n",
       "      <td>3240</td>\n",
       "      <td>0.057390</td>\n",
       "    </tr>\n",
       "    <tr>\n",
       "      <th>41435</th>\n",
       "      <td>9</td>\n",
       "      <td>1</td>\n",
       "      <td>121491.0</td>\n",
       "      <td>34000</td>\n",
       "      <td>0.279856</td>\n",
       "      <td>2000</td>\n",
       "      <td>0.016462</td>\n",
       "      <td>850</td>\n",
       "      <td>0.006996</td>\n",
       "    </tr>\n",
       "    <tr>\n",
       "      <th>41514</th>\n",
       "      <td>12</td>\n",
       "      <td>2</td>\n",
       "      <td>96246.0</td>\n",
       "      <td>22500</td>\n",
       "      <td>0.233776</td>\n",
       "      <td>0</td>\n",
       "      <td>0.000000</td>\n",
       "      <td>1850</td>\n",
       "      <td>0.019222</td>\n",
       "    </tr>\n",
       "  </tbody>\n",
       "</table>\n",
       "<p>737 rows × 9 columns</p>\n",
       "</div>"
      ],
      "text/plain": [
       "       w_regn  sex    ttotex  spec_expense  spec_expense_pcntg  \\\n",
       "77         14    1   59965.0           500            0.008338   \n",
       "197        14    2   32430.0             0            0.000000   \n",
       "214        14    2   80280.0          1000            0.012456   \n",
       "251        14    1   37654.0             0            0.000000   \n",
       "257        14    1   39972.0             0            0.000000   \n",
       "...       ...  ...       ...           ...                 ...   \n",
       "41023      11    1   49671.0          4000            0.080530   \n",
       "41024      11    1   75984.0          8000            0.105285   \n",
       "41321       9    1   56456.0             0            0.000000   \n",
       "41435       9    1  121491.0         34000            0.279856   \n",
       "41514      12    2   96246.0         22500            0.233776   \n",
       "\n",
       "       gadget_expense  gadget_expense_pcntg  fashion_misc  fashion_misc_pcntg  \n",
       "77                  0              0.000000           600            0.010006  \n",
       "197                 0              0.000000          1220            0.037619  \n",
       "214                 0              0.000000           950            0.011834  \n",
       "251                 0              0.000000           450            0.011951  \n",
       "257                 0              0.000000           200            0.005004  \n",
       "...               ...                   ...           ...                 ...  \n",
       "41023               0              0.000000          2710            0.054559  \n",
       "41024               0              0.000000          4440            0.058433  \n",
       "41321               0              0.000000          3240            0.057390  \n",
       "41435            2000              0.016462           850            0.006996  \n",
       "41514               0              0.000000          1850            0.019222  \n",
       "\n",
       "[737 rows x 9 columns]"
      ]
     },
     "execution_count": 128,
     "metadata": {},
     "output_type": "execute_result"
    }
   ],
   "source": [
    "df_misc = bachelors[['w_regn','sex','ttotex']]\n",
    "df_misc['spec_expense'] = spec_expense\n",
    "df_misc['spec_expense_pcntg'] = spec_expense/df_misc.ttotex\n",
    "df_misc['gadget_expense'] = gadget_expense\n",
    "df_misc['gadget_expense_pcntg'] = gadget_expense/df_misc.ttotex\n",
    "df_misc['fashion_misc'] = fashion_misc \n",
    "df_misc['fashion_misc_pcntg'] = fashion_misc/df_misc.ttotex\n",
    "df_misc"
   ]
  },
  {
   "cell_type": "markdown",
   "id": "c5fb23b0",
   "metadata": {},
   "source": [
    "### High-Level"
   ]
  },
  {
   "cell_type": "markdown",
   "id": "85dc545f",
   "metadata": {},
   "source": [
    "#### Checking for Normality"
   ]
  },
  {
   "cell_type": "code",
   "execution_count": 350,
   "id": "fafaea81",
   "metadata": {
    "ExecuteTime": {
     "end_time": "2021-09-16T09:25:43.595134Z",
     "start_time": "2021-09-16T09:25:43.588197Z"
    }
   },
   "outputs": [
    {
     "name": "stdout",
     "output_type": "stream",
     "text": [
      "spec_expense_pcntg is probably NOT Gaussian per Shapiro-Wilk Test\n",
      "gadget_expense_pcntg is probably NOT Gaussian per Shapiro-Wilk Test\n",
      "fashion_misc_pcntg is probably NOT Gaussian per Shapiro-Wilk Test\n"
     ]
    }
   ],
   "source": [
    "pcntg_cols = ['spec_expense_pcntg', 'gadget_expense_pcntg', 'fashion_misc_pcntg']\n",
    "for pc in pcntg_cols:\n",
    "    print(pc,test_for_normality(df_misc[pc]))"
   ]
  },
  {
   "cell_type": "markdown",
   "id": "9dad5536",
   "metadata": {},
   "source": [
    "#### Looking at Difference with respect to Sex"
   ]
  },
  {
   "cell_type": "code",
   "execution_count": 351,
   "id": "84ef41d9",
   "metadata": {
    "ExecuteTime": {
     "end_time": "2021-09-16T09:25:44.078602Z",
     "start_time": "2021-09-16T09:25:44.057569Z"
    }
   },
   "outputs": [
    {
     "name": "stdout",
     "output_type": "stream",
     "text": [
      "spec_expense_pcntg is probably statistically different per mann-whitney\n",
      "gadget_expense_pcntg is probably statistically different per mann-whitney\n",
      "fashion_misc_pcntg is probably NOT statistically different per mann-whitney\n"
     ]
    }
   ],
   "source": [
    "pcntg_cols = ['spec_expense_pcntg', 'gadget_expense_pcntg', 'fashion_misc_pcntg']\n",
    "for pc in pcntg_cols:\n",
    "    male = df_misc[df_misc.sex == 1][pc]\n",
    "    female = df_misc[df_misc.sex == 2][pc]\n",
    "    print(pc,test_for_signif_diff(male, female))"
   ]
  },
  {
   "cell_type": "code",
   "execution_count": 352,
   "id": "f461c1ab",
   "metadata": {
    "ExecuteTime": {
     "end_time": "2021-09-16T09:25:45.405496Z",
     "start_time": "2021-09-16T09:25:45.388822Z"
    }
   },
   "outputs": [
    {
     "data": {
      "text/html": [
       "<div>\n",
       "<style scoped>\n",
       "    .dataframe tbody tr th:only-of-type {\n",
       "        vertical-align: middle;\n",
       "    }\n",
       "\n",
       "    .dataframe tbody tr th {\n",
       "        vertical-align: top;\n",
       "    }\n",
       "\n",
       "    .dataframe thead th {\n",
       "        text-align: right;\n",
       "    }\n",
       "</style>\n",
       "<table border=\"1\" class=\"dataframe\">\n",
       "  <thead>\n",
       "    <tr style=\"text-align: right;\">\n",
       "      <th></th>\n",
       "      <th>spec_expense_pcntg</th>\n",
       "      <th>gadget_expense_pcntg</th>\n",
       "      <th>fashion_misc_pcntg</th>\n",
       "    </tr>\n",
       "    <tr>\n",
       "      <th>sex</th>\n",
       "      <th></th>\n",
       "      <th></th>\n",
       "      <th></th>\n",
       "    </tr>\n",
       "  </thead>\n",
       "  <tbody>\n",
       "    <tr>\n",
       "      <th>1</th>\n",
       "      <td>0.010638</td>\n",
       "      <td>0.004315</td>\n",
       "      <td>0.028974</td>\n",
       "    </tr>\n",
       "    <tr>\n",
       "      <th>2</th>\n",
       "      <td>0.010154</td>\n",
       "      <td>0.004467</td>\n",
       "      <td>0.021850</td>\n",
       "    </tr>\n",
       "  </tbody>\n",
       "</table>\n",
       "</div>"
      ],
      "text/plain": [
       "     spec_expense_pcntg  gadget_expense_pcntg  fashion_misc_pcntg\n",
       "sex                                                              \n",
       "1              0.010638              0.004315            0.028974\n",
       "2              0.010154              0.004467            0.021850"
      ]
     },
     "execution_count": 352,
     "metadata": {},
     "output_type": "execute_result"
    }
   ],
   "source": [
    "pcntg_cols = ['spec_expense_pcntg', 'gadget_expense_pcntg', 'fashion_misc_pcntg']\n",
    "df_misc.groupby('sex')[pcntg_cols].mean()"
   ]
  },
  {
   "cell_type": "markdown",
   "id": "fec96f3c",
   "metadata": {},
   "source": [
    "### Per Region"
   ]
  },
  {
   "cell_type": "markdown",
   "id": "e8b670f3",
   "metadata": {},
   "source": [
    "#### Checking for Normality"
   ]
  },
  {
   "cell_type": "code",
   "execution_count": 353,
   "id": "7137d2f6",
   "metadata": {
    "ExecuteTime": {
     "end_time": "2021-09-16T09:25:46.783489Z",
     "start_time": "2021-09-16T09:25:46.717547Z"
    }
   },
   "outputs": [
    {
     "name": "stderr",
     "output_type": "stream",
     "text": [
      "/opt/conda/lib/python3.8/site-packages/scipy/stats/morestats.py:1678: UserWarning: Input data for shapiro has range zero. The results may not be accurate.\n",
      "  warnings.warn(\"Input data for shapiro has range zero. The results \"\n",
      "/opt/conda/lib/python3.8/site-packages/scipy/stats/morestats.py:1678: UserWarning: Input data for shapiro has range zero. The results may not be accurate.\n",
      "  warnings.warn(\"Input data for shapiro has range zero. The results \"\n"
     ]
    },
    {
     "data": {
      "text/html": [
       "<div>\n",
       "<style scoped>\n",
       "    .dataframe tbody tr th:only-of-type {\n",
       "        vertical-align: middle;\n",
       "    }\n",
       "\n",
       "    .dataframe tbody tr th {\n",
       "        vertical-align: top;\n",
       "    }\n",
       "\n",
       "    .dataframe thead th {\n",
       "        text-align: right;\n",
       "    }\n",
       "</style>\n",
       "<table border=\"1\" class=\"dataframe\">\n",
       "  <thead>\n",
       "    <tr style=\"text-align: right;\">\n",
       "      <th></th>\n",
       "      <th>Regn</th>\n",
       "      <th>spec_expense_pcntg</th>\n",
       "      <th>gadget_expense_pcntg</th>\n",
       "      <th>fashion_misc_pcntg</th>\n",
       "    </tr>\n",
       "  </thead>\n",
       "  <tbody>\n",
       "    <tr>\n",
       "      <th>0</th>\n",
       "      <td>I - Ilocos Region</td>\n",
       "      <td>NOT Gaussian</td>\n",
       "      <td>NOT Gaussian</td>\n",
       "      <td>NOT Gaussian</td>\n",
       "    </tr>\n",
       "    <tr>\n",
       "      <th>1</th>\n",
       "      <td>II - Cagayan Valley</td>\n",
       "      <td>NOT Gaussian</td>\n",
       "      <td>NOT Gaussian</td>\n",
       "      <td>NOT Gaussian</td>\n",
       "    </tr>\n",
       "    <tr>\n",
       "      <th>2</th>\n",
       "      <td>III - Central Luzon</td>\n",
       "      <td>NOT Gaussian</td>\n",
       "      <td>NOT Gaussian</td>\n",
       "      <td>NOT Gaussian</td>\n",
       "    </tr>\n",
       "    <tr>\n",
       "      <th>3</th>\n",
       "      <td>V - Bicol Region</td>\n",
       "      <td>NOT Gaussian</td>\n",
       "      <td>Gaussian</td>\n",
       "      <td>NOT Gaussian</td>\n",
       "    </tr>\n",
       "    <tr>\n",
       "      <th>4</th>\n",
       "      <td>VI - Western Visayas</td>\n",
       "      <td>NOT Gaussian</td>\n",
       "      <td>NOT Gaussian</td>\n",
       "      <td>NOT Gaussian</td>\n",
       "    </tr>\n",
       "    <tr>\n",
       "      <th>5</th>\n",
       "      <td>VII - Central Visayas</td>\n",
       "      <td>NOT Gaussian</td>\n",
       "      <td>NOT Gaussian</td>\n",
       "      <td>NOT Gaussian</td>\n",
       "    </tr>\n",
       "    <tr>\n",
       "      <th>6</th>\n",
       "      <td>VIII - Eastern Visayas</td>\n",
       "      <td>NOT Gaussian</td>\n",
       "      <td>NOT Gaussian</td>\n",
       "      <td>NOT Gaussian</td>\n",
       "    </tr>\n",
       "    <tr>\n",
       "      <th>7</th>\n",
       "      <td>IX - Zasmboanga Peninsula</td>\n",
       "      <td>NOT Gaussian</td>\n",
       "      <td>NOT Gaussian</td>\n",
       "      <td>NOT Gaussian</td>\n",
       "    </tr>\n",
       "    <tr>\n",
       "      <th>8</th>\n",
       "      <td>X - Northern Mindanao</td>\n",
       "      <td>NOT Gaussian</td>\n",
       "      <td>NOT Gaussian</td>\n",
       "      <td>NOT Gaussian</td>\n",
       "    </tr>\n",
       "    <tr>\n",
       "      <th>9</th>\n",
       "      <td>XI - Davao Region</td>\n",
       "      <td>NOT Gaussian</td>\n",
       "      <td>NOT Gaussian</td>\n",
       "      <td>NOT Gaussian</td>\n",
       "    </tr>\n",
       "    <tr>\n",
       "      <th>10</th>\n",
       "      <td>XII - SOCCSKSARGEN</td>\n",
       "      <td>NOT Gaussian</td>\n",
       "      <td>NOT Gaussian</td>\n",
       "      <td>NOT Gaussian</td>\n",
       "    </tr>\n",
       "    <tr>\n",
       "      <th>11</th>\n",
       "      <td>NCR</td>\n",
       "      <td>NOT Gaussian</td>\n",
       "      <td>NOT Gaussian</td>\n",
       "      <td>NOT Gaussian</td>\n",
       "    </tr>\n",
       "    <tr>\n",
       "      <th>12</th>\n",
       "      <td>CAR</td>\n",
       "      <td>NOT Gaussian</td>\n",
       "      <td>NOT Gaussian</td>\n",
       "      <td>NOT Gaussian</td>\n",
       "    </tr>\n",
       "    <tr>\n",
       "      <th>13</th>\n",
       "      <td>ARMM</td>\n",
       "      <td>Gaussian</td>\n",
       "      <td>NOT Gaussian</td>\n",
       "      <td>Gaussian</td>\n",
       "    </tr>\n",
       "    <tr>\n",
       "      <th>14</th>\n",
       "      <td>Caraga</td>\n",
       "      <td>NOT Gaussian</td>\n",
       "      <td>NOT Gaussian</td>\n",
       "      <td>NOT Gaussian</td>\n",
       "    </tr>\n",
       "    <tr>\n",
       "      <th>15</th>\n",
       "      <td>IVA - CALABARZON</td>\n",
       "      <td>NOT Gaussian</td>\n",
       "      <td>NOT Gaussian</td>\n",
       "      <td>NOT Gaussian</td>\n",
       "    </tr>\n",
       "    <tr>\n",
       "      <th>16</th>\n",
       "      <td>IVB - MIMAROPA</td>\n",
       "      <td>NOT Gaussian</td>\n",
       "      <td>NOT Gaussian</td>\n",
       "      <td>NOT Gaussian</td>\n",
       "    </tr>\n",
       "  </tbody>\n",
       "</table>\n",
       "</div>"
      ],
      "text/plain": [
       "                         Regn spec_expense_pcntg gadget_expense_pcntg  \\\n",
       "0           I - Ilocos Region       NOT Gaussian         NOT Gaussian   \n",
       "1         II - Cagayan Valley       NOT Gaussian         NOT Gaussian   \n",
       "2         III - Central Luzon       NOT Gaussian         NOT Gaussian   \n",
       "3            V - Bicol Region       NOT Gaussian             Gaussian   \n",
       "4        VI - Western Visayas       NOT Gaussian         NOT Gaussian   \n",
       "5       VII - Central Visayas       NOT Gaussian         NOT Gaussian   \n",
       "6      VIII - Eastern Visayas       NOT Gaussian         NOT Gaussian   \n",
       "7   IX - Zasmboanga Peninsula       NOT Gaussian         NOT Gaussian   \n",
       "8       X - Northern Mindanao       NOT Gaussian         NOT Gaussian   \n",
       "9           XI - Davao Region       NOT Gaussian         NOT Gaussian   \n",
       "10         XII - SOCCSKSARGEN       NOT Gaussian         NOT Gaussian   \n",
       "11                        NCR       NOT Gaussian         NOT Gaussian   \n",
       "12                        CAR       NOT Gaussian         NOT Gaussian   \n",
       "13                       ARMM           Gaussian         NOT Gaussian   \n",
       "14                     Caraga       NOT Gaussian         NOT Gaussian   \n",
       "15           IVA - CALABARZON       NOT Gaussian         NOT Gaussian   \n",
       "16             IVB - MIMAROPA       NOT Gaussian         NOT Gaussian   \n",
       "\n",
       "   fashion_misc_pcntg  \n",
       "0        NOT Gaussian  \n",
       "1        NOT Gaussian  \n",
       "2        NOT Gaussian  \n",
       "3        NOT Gaussian  \n",
       "4        NOT Gaussian  \n",
       "5        NOT Gaussian  \n",
       "6        NOT Gaussian  \n",
       "7        NOT Gaussian  \n",
       "8        NOT Gaussian  \n",
       "9        NOT Gaussian  \n",
       "10       NOT Gaussian  \n",
       "11       NOT Gaussian  \n",
       "12       NOT Gaussian  \n",
       "13           Gaussian  \n",
       "14       NOT Gaussian  \n",
       "15       NOT Gaussian  \n",
       "16       NOT Gaussian  "
      ]
     },
     "execution_count": 353,
     "metadata": {},
     "output_type": "execute_result"
    }
   ],
   "source": [
    "df_misc_reg_norm = pd.DataFrame()\n",
    "df_misc_reg_norm['Regn'] = sorted(set(df_misc.w_regn))\n",
    "df_misc_reg_norm['Regn'] = df_misc_reg_norm['Regn'].map(W_REGN)\n",
    "for pc in pcntg_cols:\n",
    "    test_vals = []\n",
    "    for rgn in sorted(set(df_misc.w_regn)):\n",
    "        df_reg = df_misc[df_misc['w_regn'] == rgn]\n",
    "        test = test_for_normality(df_reg[pc])\n",
    "        if 'NOT' in test:\n",
    "            test_vals.append('NOT Gaussian')\n",
    "        else:\n",
    "            test_vals.append('Gaussian')\n",
    "    df_misc_reg_norm[pc] = test_vals\n",
    "df_misc_reg_norm"
   ]
  },
  {
   "cell_type": "markdown",
   "id": "eead6d28",
   "metadata": {},
   "source": [
    "#### Looking at Difference with respect to Sex"
   ]
  },
  {
   "cell_type": "code",
   "execution_count": 354,
   "id": "9908db68",
   "metadata": {
    "ExecuteTime": {
     "end_time": "2021-09-16T09:26:03.807058Z",
     "start_time": "2021-09-16T09:26:03.611005Z"
    }
   },
   "outputs": [
    {
     "name": "stderr",
     "output_type": "stream",
     "text": [
      "/opt/conda/lib/python3.8/site-packages/scipy/stats/morestats.py:1678: UserWarning: Input data for shapiro has range zero. The results may not be accurate.\n",
      "  warnings.warn(\"Input data for shapiro has range zero. The results \"\n",
      "/opt/conda/lib/python3.8/site-packages/scipy/stats/morestats.py:1678: UserWarning: Input data for shapiro has range zero. The results may not be accurate.\n",
      "  warnings.warn(\"Input data for shapiro has range zero. The results \"\n"
     ]
    },
    {
     "data": {
      "text/html": [
       "<div>\n",
       "<style scoped>\n",
       "    .dataframe tbody tr th:only-of-type {\n",
       "        vertical-align: middle;\n",
       "    }\n",
       "\n",
       "    .dataframe tbody tr th {\n",
       "        vertical-align: top;\n",
       "    }\n",
       "\n",
       "    .dataframe thead th {\n",
       "        text-align: right;\n",
       "    }\n",
       "</style>\n",
       "<table border=\"1\" class=\"dataframe\">\n",
       "  <thead>\n",
       "    <tr style=\"text-align: right;\">\n",
       "      <th></th>\n",
       "      <th>Regn</th>\n",
       "      <th>spec_expense_pcntg</th>\n",
       "      <th>gadget_expense_pcntg</th>\n",
       "      <th>fashion_misc_pcntg</th>\n",
       "    </tr>\n",
       "  </thead>\n",
       "  <tbody>\n",
       "    <tr>\n",
       "      <th>0</th>\n",
       "      <td>I - Ilocos Region</td>\n",
       "      <td>Significant</td>\n",
       "      <td>Significant</td>\n",
       "      <td>Significant</td>\n",
       "    </tr>\n",
       "    <tr>\n",
       "      <th>1</th>\n",
       "      <td>II - Cagayan Valley</td>\n",
       "      <td>Significant</td>\n",
       "      <td>Significant</td>\n",
       "      <td>Significant</td>\n",
       "    </tr>\n",
       "    <tr>\n",
       "      <th>2</th>\n",
       "      <td>III - Central Luzon</td>\n",
       "      <td>Significant</td>\n",
       "      <td>Significant</td>\n",
       "      <td>Significant</td>\n",
       "    </tr>\n",
       "    <tr>\n",
       "      <th>3</th>\n",
       "      <td>V - Bicol Region</td>\n",
       "      <td>Significant</td>\n",
       "      <td>NOT significant</td>\n",
       "      <td>Significant</td>\n",
       "    </tr>\n",
       "    <tr>\n",
       "      <th>4</th>\n",
       "      <td>VI - Western Visayas</td>\n",
       "      <td>Significant</td>\n",
       "      <td>Significant</td>\n",
       "      <td>Significant</td>\n",
       "    </tr>\n",
       "    <tr>\n",
       "      <th>5</th>\n",
       "      <td>VII - Central Visayas</td>\n",
       "      <td>Significant</td>\n",
       "      <td>Significant</td>\n",
       "      <td>NOT significant</td>\n",
       "    </tr>\n",
       "    <tr>\n",
       "      <th>6</th>\n",
       "      <td>VIII - Eastern Visayas</td>\n",
       "      <td>Significant</td>\n",
       "      <td>Significant</td>\n",
       "      <td>NOT significant</td>\n",
       "    </tr>\n",
       "    <tr>\n",
       "      <th>7</th>\n",
       "      <td>IX - Zasmboanga Peninsula</td>\n",
       "      <td>Significant</td>\n",
       "      <td>Significant</td>\n",
       "      <td>Significant</td>\n",
       "    </tr>\n",
       "    <tr>\n",
       "      <th>8</th>\n",
       "      <td>X - Northern Mindanao</td>\n",
       "      <td>NOT significant</td>\n",
       "      <td>Significant</td>\n",
       "      <td>Significant</td>\n",
       "    </tr>\n",
       "    <tr>\n",
       "      <th>9</th>\n",
       "      <td>XI - Davao Region</td>\n",
       "      <td>Significant</td>\n",
       "      <td>Significant</td>\n",
       "      <td>Significant</td>\n",
       "    </tr>\n",
       "    <tr>\n",
       "      <th>10</th>\n",
       "      <td>XII - SOCCSKSARGEN</td>\n",
       "      <td>Significant</td>\n",
       "      <td>Significant</td>\n",
       "      <td>Significant</td>\n",
       "    </tr>\n",
       "    <tr>\n",
       "      <th>11</th>\n",
       "      <td>NCR</td>\n",
       "      <td>Significant</td>\n",
       "      <td>Significant</td>\n",
       "      <td>NOT significant</td>\n",
       "    </tr>\n",
       "    <tr>\n",
       "      <th>12</th>\n",
       "      <td>CAR</td>\n",
       "      <td>Significant</td>\n",
       "      <td>NOT significant</td>\n",
       "      <td>Significant</td>\n",
       "    </tr>\n",
       "    <tr>\n",
       "      <th>13</th>\n",
       "      <td>ARMM</td>\n",
       "      <td>NOT significant</td>\n",
       "      <td>Significant</td>\n",
       "      <td>NOT significant</td>\n",
       "    </tr>\n",
       "    <tr>\n",
       "      <th>14</th>\n",
       "      <td>Caraga</td>\n",
       "      <td>NOT significant</td>\n",
       "      <td>Significant</td>\n",
       "      <td>Significant</td>\n",
       "    </tr>\n",
       "    <tr>\n",
       "      <th>15</th>\n",
       "      <td>IVA - CALABARZON</td>\n",
       "      <td>Significant</td>\n",
       "      <td>Significant</td>\n",
       "      <td>Significant</td>\n",
       "    </tr>\n",
       "    <tr>\n",
       "      <th>16</th>\n",
       "      <td>IVB - MIMAROPA</td>\n",
       "      <td>Significant</td>\n",
       "      <td>Significant</td>\n",
       "      <td>NOT significant</td>\n",
       "    </tr>\n",
       "  </tbody>\n",
       "</table>\n",
       "</div>"
      ],
      "text/plain": [
       "                         Regn spec_expense_pcntg gadget_expense_pcntg  \\\n",
       "0           I - Ilocos Region        Significant          Significant   \n",
       "1         II - Cagayan Valley        Significant          Significant   \n",
       "2         III - Central Luzon        Significant          Significant   \n",
       "3            V - Bicol Region        Significant      NOT significant   \n",
       "4        VI - Western Visayas        Significant          Significant   \n",
       "5       VII - Central Visayas        Significant          Significant   \n",
       "6      VIII - Eastern Visayas        Significant          Significant   \n",
       "7   IX - Zasmboanga Peninsula        Significant          Significant   \n",
       "8       X - Northern Mindanao    NOT significant          Significant   \n",
       "9           XI - Davao Region        Significant          Significant   \n",
       "10         XII - SOCCSKSARGEN        Significant          Significant   \n",
       "11                        NCR        Significant          Significant   \n",
       "12                        CAR        Significant      NOT significant   \n",
       "13                       ARMM    NOT significant          Significant   \n",
       "14                     Caraga    NOT significant          Significant   \n",
       "15           IVA - CALABARZON        Significant          Significant   \n",
       "16             IVB - MIMAROPA        Significant          Significant   \n",
       "\n",
       "   fashion_misc_pcntg  \n",
       "0         Significant  \n",
       "1         Significant  \n",
       "2         Significant  \n",
       "3         Significant  \n",
       "4         Significant  \n",
       "5     NOT significant  \n",
       "6     NOT significant  \n",
       "7         Significant  \n",
       "8         Significant  \n",
       "9         Significant  \n",
       "10        Significant  \n",
       "11    NOT significant  \n",
       "12        Significant  \n",
       "13    NOT significant  \n",
       "14        Significant  \n",
       "15        Significant  \n",
       "16    NOT significant  "
      ]
     },
     "execution_count": 354,
     "metadata": {},
     "output_type": "execute_result"
    }
   ],
   "source": [
    "df_misc_reg_diff = pd.DataFrame()\n",
    "df_misc_reg_diff['Regn'] = sorted(set(df_misc.w_regn))\n",
    "df_misc_reg_diff['Regn'] = df_misc_reg_diff['Regn'].map(W_REGN)\n",
    "for pc in pcntg_cols:\n",
    "    test_vals = []\n",
    "    for rgn in sorted(set(df_misc.w_regn)):\n",
    "        df_reg = df_misc[df_misc['w_regn'] == rgn]\n",
    "        if 'NOT' in test_for_normality(df_reg[pc]):\n",
    "            normal = False\n",
    "        else:\n",
    "            normal = True\n",
    "        male = df_reg[df_reg.sex == 1][pc]\n",
    "        female = df_reg[df_reg.sex == 2][pc]\n",
    "        test = test_for_signif_diff(male, female, normal)\n",
    "        if 'NOT' in test:\n",
    "            test_vals.append('NOT significant')\n",
    "        else:\n",
    "            test_vals.append('Significant')\n",
    "    df_misc_reg_diff[pc] = test_vals\n",
    "df_misc_reg_diff"
   ]
  },
  {
   "cell_type": "markdown",
   "id": "e49c44ff",
   "metadata": {
    "ExecuteTime": {
     "end_time": "2021-09-16T06:57:30.610616Z",
     "start_time": "2021-09-16T06:57:30.606984Z"
    }
   },
   "source": [
    "## Impersonal Expenses"
   ]
  },
  {
   "cell_type": "markdown",
   "id": "6bdd1942",
   "metadata": {},
   "source": [
    "### High-Level"
   ]
  },
  {
   "cell_type": "code",
   "execution_count": 157,
   "id": "e4c25e4f",
   "metadata": {
    "ExecuteTime": {
     "end_time": "2021-09-16T07:12:37.918750Z",
     "start_time": "2021-09-16T07:12:37.915000Z"
    }
   },
   "outputs": [],
   "source": [
    "donations_cols = [\n",
    "    'toassist',\n",
    "    'toreligious',\n",
    "    'tootherinst',\n",
    "]"
   ]
  },
  {
   "cell_type": "code",
   "execution_count": 158,
   "id": "e42342a2",
   "metadata": {
    "ExecuteTime": {
     "end_time": "2021-09-16T07:12:45.529230Z",
     "start_time": "2021-09-16T07:12:45.524165Z"
    }
   },
   "outputs": [],
   "source": [
    "donations_expense = bachelors[donations_cols].sum(axis = 1)"
   ]
  },
  {
   "cell_type": "code",
   "execution_count": 159,
   "id": "2a1b93df",
   "metadata": {
    "ExecuteTime": {
     "end_time": "2021-09-16T07:12:46.128360Z",
     "start_time": "2021-09-16T07:12:46.099523Z"
    }
   },
   "outputs": [
    {
     "data": {
      "text/html": [
       "<div>\n",
       "<style scoped>\n",
       "    .dataframe tbody tr th:only-of-type {\n",
       "        vertical-align: middle;\n",
       "    }\n",
       "\n",
       "    .dataframe tbody tr th {\n",
       "        vertical-align: top;\n",
       "    }\n",
       "\n",
       "    .dataframe thead th {\n",
       "        text-align: right;\n",
       "    }\n",
       "</style>\n",
       "<table border=\"1\" class=\"dataframe\">\n",
       "  <thead>\n",
       "    <tr style=\"text-align: right;\">\n",
       "      <th></th>\n",
       "      <th>w_regn</th>\n",
       "      <th>sex</th>\n",
       "      <th>ttotex</th>\n",
       "      <th>donations_expense</th>\n",
       "      <th>donations_expense_pcntg</th>\n",
       "    </tr>\n",
       "  </thead>\n",
       "  <tbody>\n",
       "    <tr>\n",
       "      <th>77</th>\n",
       "      <td>14</td>\n",
       "      <td>1</td>\n",
       "      <td>59965.0</td>\n",
       "      <td>150</td>\n",
       "      <td>0.002501</td>\n",
       "    </tr>\n",
       "    <tr>\n",
       "      <th>197</th>\n",
       "      <td>14</td>\n",
       "      <td>2</td>\n",
       "      <td>32430.0</td>\n",
       "      <td>50</td>\n",
       "      <td>0.001542</td>\n",
       "    </tr>\n",
       "    <tr>\n",
       "      <th>214</th>\n",
       "      <td>14</td>\n",
       "      <td>2</td>\n",
       "      <td>80280.0</td>\n",
       "      <td>240</td>\n",
       "      <td>0.002990</td>\n",
       "    </tr>\n",
       "    <tr>\n",
       "      <th>251</th>\n",
       "      <td>14</td>\n",
       "      <td>1</td>\n",
       "      <td>37654.0</td>\n",
       "      <td>0</td>\n",
       "      <td>0.000000</td>\n",
       "    </tr>\n",
       "    <tr>\n",
       "      <th>257</th>\n",
       "      <td>14</td>\n",
       "      <td>1</td>\n",
       "      <td>39972.0</td>\n",
       "      <td>0</td>\n",
       "      <td>0.000000</td>\n",
       "    </tr>\n",
       "    <tr>\n",
       "      <th>...</th>\n",
       "      <td>...</td>\n",
       "      <td>...</td>\n",
       "      <td>...</td>\n",
       "      <td>...</td>\n",
       "      <td>...</td>\n",
       "    </tr>\n",
       "    <tr>\n",
       "      <th>41023</th>\n",
       "      <td>11</td>\n",
       "      <td>1</td>\n",
       "      <td>49671.0</td>\n",
       "      <td>0</td>\n",
       "      <td>0.000000</td>\n",
       "    </tr>\n",
       "    <tr>\n",
       "      <th>41024</th>\n",
       "      <td>11</td>\n",
       "      <td>1</td>\n",
       "      <td>75984.0</td>\n",
       "      <td>12000</td>\n",
       "      <td>0.157928</td>\n",
       "    </tr>\n",
       "    <tr>\n",
       "      <th>41321</th>\n",
       "      <td>9</td>\n",
       "      <td>1</td>\n",
       "      <td>56456.0</td>\n",
       "      <td>0</td>\n",
       "      <td>0.000000</td>\n",
       "    </tr>\n",
       "    <tr>\n",
       "      <th>41435</th>\n",
       "      <td>9</td>\n",
       "      <td>1</td>\n",
       "      <td>121491.0</td>\n",
       "      <td>0</td>\n",
       "      <td>0.000000</td>\n",
       "    </tr>\n",
       "    <tr>\n",
       "      <th>41514</th>\n",
       "      <td>12</td>\n",
       "      <td>2</td>\n",
       "      <td>96246.0</td>\n",
       "      <td>1150</td>\n",
       "      <td>0.011949</td>\n",
       "    </tr>\n",
       "  </tbody>\n",
       "</table>\n",
       "<p>737 rows × 5 columns</p>\n",
       "</div>"
      ],
      "text/plain": [
       "       w_regn  sex    ttotex  donations_expense  donations_expense_pcntg\n",
       "77         14    1   59965.0                150                 0.002501\n",
       "197        14    2   32430.0                 50                 0.001542\n",
       "214        14    2   80280.0                240                 0.002990\n",
       "251        14    1   37654.0                  0                 0.000000\n",
       "257        14    1   39972.0                  0                 0.000000\n",
       "...       ...  ...       ...                ...                      ...\n",
       "41023      11    1   49671.0                  0                 0.000000\n",
       "41024      11    1   75984.0              12000                 0.157928\n",
       "41321       9    1   56456.0                  0                 0.000000\n",
       "41435       9    1  121491.0                  0                 0.000000\n",
       "41514      12    2   96246.0               1150                 0.011949\n",
       "\n",
       "[737 rows x 5 columns]"
      ]
     },
     "execution_count": 159,
     "metadata": {},
     "output_type": "execute_result"
    }
   ],
   "source": [
    "df_impr = bachelors[['w_regn','sex','ttotex']]\n",
    "df_impr['donations_expense'] = donations_expense\n",
    "df_impr['donations_expense_pcntg'] = donations_expense/df_impr.ttotex\n",
    "df_impr"
   ]
  },
  {
   "cell_type": "markdown",
   "id": "11ce74b9",
   "metadata": {},
   "source": [
    "#### Checking for Normality"
   ]
  },
  {
   "cell_type": "code",
   "execution_count": 161,
   "id": "b94951bf",
   "metadata": {
    "ExecuteTime": {
     "end_time": "2021-09-16T07:13:09.785803Z",
     "start_time": "2021-09-16T07:13:09.780029Z"
    }
   },
   "outputs": [
    {
     "name": "stdout",
     "output_type": "stream",
     "text": [
      "donations_expense_pcntg is probably NOT Gaussian per Shapiro-Wilk Test\n"
     ]
    }
   ],
   "source": [
    "pcntg_cols = ['donations_expense_pcntg']\n",
    "for pc in pcntg_cols:\n",
    "    print(pc,test_for_normality(df_impr[pc]))"
   ]
  },
  {
   "cell_type": "markdown",
   "id": "039c446f",
   "metadata": {},
   "source": [
    "#### Looking at Difference with respect to Sex"
   ]
  },
  {
   "cell_type": "code",
   "execution_count": 163,
   "id": "0f2316d8",
   "metadata": {
    "ExecuteTime": {
     "end_time": "2021-09-16T07:13:39.417613Z",
     "start_time": "2021-09-16T07:13:39.405217Z"
    }
   },
   "outputs": [
    {
     "name": "stdout",
     "output_type": "stream",
     "text": [
      "donations_expense_pcntg is probably NOT statistically different per mann-whitney\n"
     ]
    }
   ],
   "source": [
    "for pc in pcntg_cols:\n",
    "    male = df_impr[df_impr.sex == 1][pc]\n",
    "    female = df_impr[df_impr.sex == 2][pc]\n",
    "    print(pc,test_for_signif_diff(male, female))"
   ]
  },
  {
   "cell_type": "code",
   "execution_count": 164,
   "id": "742b4738",
   "metadata": {
    "ExecuteTime": {
     "end_time": "2021-09-16T07:13:53.673983Z",
     "start_time": "2021-09-16T07:13:53.659944Z"
    }
   },
   "outputs": [
    {
     "data": {
      "text/html": [
       "<div>\n",
       "<style scoped>\n",
       "    .dataframe tbody tr th:only-of-type {\n",
       "        vertical-align: middle;\n",
       "    }\n",
       "\n",
       "    .dataframe tbody tr th {\n",
       "        vertical-align: top;\n",
       "    }\n",
       "\n",
       "    .dataframe thead th {\n",
       "        text-align: right;\n",
       "    }\n",
       "</style>\n",
       "<table border=\"1\" class=\"dataframe\">\n",
       "  <thead>\n",
       "    <tr style=\"text-align: right;\">\n",
       "      <th></th>\n",
       "      <th>donations_expense_pcntg</th>\n",
       "    </tr>\n",
       "    <tr>\n",
       "      <th>sex</th>\n",
       "      <th></th>\n",
       "    </tr>\n",
       "  </thead>\n",
       "  <tbody>\n",
       "    <tr>\n",
       "      <th>1</th>\n",
       "      <td>0.020453</td>\n",
       "    </tr>\n",
       "    <tr>\n",
       "      <th>2</th>\n",
       "      <td>0.022881</td>\n",
       "    </tr>\n",
       "  </tbody>\n",
       "</table>\n",
       "</div>"
      ],
      "text/plain": [
       "     donations_expense_pcntg\n",
       "sex                         \n",
       "1                   0.020453\n",
       "2                   0.022881"
      ]
     },
     "execution_count": 164,
     "metadata": {},
     "output_type": "execute_result"
    }
   ],
   "source": [
    "pcntg_cols = ['donations_expense_pcntg']\n",
    "df_impr.groupby('sex')[pcntg_cols].mean()"
   ]
  },
  {
   "cell_type": "markdown",
   "id": "452997b3",
   "metadata": {},
   "source": [
    "### Per Region"
   ]
  },
  {
   "cell_type": "markdown",
   "id": "18584d6b",
   "metadata": {},
   "source": [
    "#### Checking for Normality"
   ]
  },
  {
   "cell_type": "code",
   "execution_count": 165,
   "id": "10a048ab",
   "metadata": {
    "ExecuteTime": {
     "end_time": "2021-09-16T07:14:02.362899Z",
     "start_time": "2021-09-16T07:14:02.325565Z"
    }
   },
   "outputs": [
    {
     "data": {
      "text/html": [
       "<div>\n",
       "<style scoped>\n",
       "    .dataframe tbody tr th:only-of-type {\n",
       "        vertical-align: middle;\n",
       "    }\n",
       "\n",
       "    .dataframe tbody tr th {\n",
       "        vertical-align: top;\n",
       "    }\n",
       "\n",
       "    .dataframe thead th {\n",
       "        text-align: right;\n",
       "    }\n",
       "</style>\n",
       "<table border=\"1\" class=\"dataframe\">\n",
       "  <thead>\n",
       "    <tr style=\"text-align: right;\">\n",
       "      <th></th>\n",
       "      <th>Regn</th>\n",
       "      <th>donations_expense_pcntg</th>\n",
       "    </tr>\n",
       "  </thead>\n",
       "  <tbody>\n",
       "    <tr>\n",
       "      <th>0</th>\n",
       "      <td>I - Ilocos Region</td>\n",
       "      <td>NOT Gaussian</td>\n",
       "    </tr>\n",
       "    <tr>\n",
       "      <th>1</th>\n",
       "      <td>II - Cagayan Valley</td>\n",
       "      <td>NOT Gaussian</td>\n",
       "    </tr>\n",
       "    <tr>\n",
       "      <th>2</th>\n",
       "      <td>III - Central Luzon</td>\n",
       "      <td>NOT Gaussian</td>\n",
       "    </tr>\n",
       "    <tr>\n",
       "      <th>3</th>\n",
       "      <td>V - Bicol Region</td>\n",
       "      <td>NOT Gaussian</td>\n",
       "    </tr>\n",
       "    <tr>\n",
       "      <th>4</th>\n",
       "      <td>VI - Western Visayas</td>\n",
       "      <td>NOT Gaussian</td>\n",
       "    </tr>\n",
       "    <tr>\n",
       "      <th>5</th>\n",
       "      <td>VII - Central Visayas</td>\n",
       "      <td>NOT Gaussian</td>\n",
       "    </tr>\n",
       "    <tr>\n",
       "      <th>6</th>\n",
       "      <td>VIII - Eastern Visayas</td>\n",
       "      <td>NOT Gaussian</td>\n",
       "    </tr>\n",
       "    <tr>\n",
       "      <th>7</th>\n",
       "      <td>IX - Zasmboanga Peninsula</td>\n",
       "      <td>NOT Gaussian</td>\n",
       "    </tr>\n",
       "    <tr>\n",
       "      <th>8</th>\n",
       "      <td>X - Northern Mindanao</td>\n",
       "      <td>NOT Gaussian</td>\n",
       "    </tr>\n",
       "    <tr>\n",
       "      <th>9</th>\n",
       "      <td>XI - Davao Region</td>\n",
       "      <td>NOT Gaussian</td>\n",
       "    </tr>\n",
       "    <tr>\n",
       "      <th>10</th>\n",
       "      <td>XII - SOCCSKSARGEN</td>\n",
       "      <td>NOT Gaussian</td>\n",
       "    </tr>\n",
       "    <tr>\n",
       "      <th>11</th>\n",
       "      <td>NCR</td>\n",
       "      <td>NOT Gaussian</td>\n",
       "    </tr>\n",
       "    <tr>\n",
       "      <th>12</th>\n",
       "      <td>CAR</td>\n",
       "      <td>NOT Gaussian</td>\n",
       "    </tr>\n",
       "    <tr>\n",
       "      <th>13</th>\n",
       "      <td>ARMM</td>\n",
       "      <td>NOT Gaussian</td>\n",
       "    </tr>\n",
       "    <tr>\n",
       "      <th>14</th>\n",
       "      <td>Caraga</td>\n",
       "      <td>NOT Gaussian</td>\n",
       "    </tr>\n",
       "    <tr>\n",
       "      <th>15</th>\n",
       "      <td>IVA - CALABARZON</td>\n",
       "      <td>NOT Gaussian</td>\n",
       "    </tr>\n",
       "    <tr>\n",
       "      <th>16</th>\n",
       "      <td>IVB - MIMAROPA</td>\n",
       "      <td>NOT Gaussian</td>\n",
       "    </tr>\n",
       "  </tbody>\n",
       "</table>\n",
       "</div>"
      ],
      "text/plain": [
       "                         Regn donations_expense_pcntg\n",
       "0           I - Ilocos Region            NOT Gaussian\n",
       "1         II - Cagayan Valley            NOT Gaussian\n",
       "2         III - Central Luzon            NOT Gaussian\n",
       "3            V - Bicol Region            NOT Gaussian\n",
       "4        VI - Western Visayas            NOT Gaussian\n",
       "5       VII - Central Visayas            NOT Gaussian\n",
       "6      VIII - Eastern Visayas            NOT Gaussian\n",
       "7   IX - Zasmboanga Peninsula            NOT Gaussian\n",
       "8       X - Northern Mindanao            NOT Gaussian\n",
       "9           XI - Davao Region            NOT Gaussian\n",
       "10         XII - SOCCSKSARGEN            NOT Gaussian\n",
       "11                        NCR            NOT Gaussian\n",
       "12                        CAR            NOT Gaussian\n",
       "13                       ARMM            NOT Gaussian\n",
       "14                     Caraga            NOT Gaussian\n",
       "15           IVA - CALABARZON            NOT Gaussian\n",
       "16             IVB - MIMAROPA            NOT Gaussian"
      ]
     },
     "execution_count": 165,
     "metadata": {},
     "output_type": "execute_result"
    }
   ],
   "source": [
    "df_impr_reg_norm = pd.DataFrame()\n",
    "df_impr_reg_norm['Regn'] = sorted(set(df_impr.w_regn))\n",
    "df_impr_reg_norm['Regn'] = df_impr_reg_norm['Regn'].map(W_REGN)\n",
    "for pc in pcntg_cols:\n",
    "    test_vals = []\n",
    "    for rgn in sorted(set(df_impr.w_regn)):\n",
    "        df_reg = df_impr[df_impr['w_regn'] == rgn]\n",
    "        test = test_for_normality(df_reg[pc])\n",
    "        if 'NOT' in test:\n",
    "            test_vals.append('NOT Gaussian')\n",
    "        else:\n",
    "            test_vals.append('Gaussian')\n",
    "    df_impr_reg_norm[pc] = test_vals\n",
    "df_impr_reg_norm"
   ]
  },
  {
   "cell_type": "markdown",
   "id": "5d9d422d",
   "metadata": {},
   "source": [
    "#### Looking at Difference with respect to Sex"
   ]
  },
  {
   "cell_type": "code",
   "execution_count": 166,
   "id": "24c5edce",
   "metadata": {
    "ExecuteTime": {
     "end_time": "2021-09-16T07:14:11.816771Z",
     "start_time": "2021-09-16T07:14:11.729464Z"
    }
   },
   "outputs": [
    {
     "data": {
      "text/html": [
       "<div>\n",
       "<style scoped>\n",
       "    .dataframe tbody tr th:only-of-type {\n",
       "        vertical-align: middle;\n",
       "    }\n",
       "\n",
       "    .dataframe tbody tr th {\n",
       "        vertical-align: top;\n",
       "    }\n",
       "\n",
       "    .dataframe thead th {\n",
       "        text-align: right;\n",
       "    }\n",
       "</style>\n",
       "<table border=\"1\" class=\"dataframe\">\n",
       "  <thead>\n",
       "    <tr style=\"text-align: right;\">\n",
       "      <th></th>\n",
       "      <th>Regn</th>\n",
       "      <th>donations_expense_pcntg</th>\n",
       "    </tr>\n",
       "  </thead>\n",
       "  <tbody>\n",
       "    <tr>\n",
       "      <th>0</th>\n",
       "      <td>I - Ilocos Region</td>\n",
       "      <td>Significant</td>\n",
       "    </tr>\n",
       "    <tr>\n",
       "      <th>1</th>\n",
       "      <td>II - Cagayan Valley</td>\n",
       "      <td>Significant</td>\n",
       "    </tr>\n",
       "    <tr>\n",
       "      <th>2</th>\n",
       "      <td>III - Central Luzon</td>\n",
       "      <td>Significant</td>\n",
       "    </tr>\n",
       "    <tr>\n",
       "      <th>3</th>\n",
       "      <td>V - Bicol Region</td>\n",
       "      <td>Significant</td>\n",
       "    </tr>\n",
       "    <tr>\n",
       "      <th>4</th>\n",
       "      <td>VI - Western Visayas</td>\n",
       "      <td>Significant</td>\n",
       "    </tr>\n",
       "    <tr>\n",
       "      <th>5</th>\n",
       "      <td>VII - Central Visayas</td>\n",
       "      <td>NOT significant</td>\n",
       "    </tr>\n",
       "    <tr>\n",
       "      <th>6</th>\n",
       "      <td>VIII - Eastern Visayas</td>\n",
       "      <td>Significant</td>\n",
       "    </tr>\n",
       "    <tr>\n",
       "      <th>7</th>\n",
       "      <td>IX - Zasmboanga Peninsula</td>\n",
       "      <td>NOT significant</td>\n",
       "    </tr>\n",
       "    <tr>\n",
       "      <th>8</th>\n",
       "      <td>X - Northern Mindanao</td>\n",
       "      <td>NOT significant</td>\n",
       "    </tr>\n",
       "    <tr>\n",
       "      <th>9</th>\n",
       "      <td>XI - Davao Region</td>\n",
       "      <td>Significant</td>\n",
       "    </tr>\n",
       "    <tr>\n",
       "      <th>10</th>\n",
       "      <td>XII - SOCCSKSARGEN</td>\n",
       "      <td>Significant</td>\n",
       "    </tr>\n",
       "    <tr>\n",
       "      <th>11</th>\n",
       "      <td>NCR</td>\n",
       "      <td>Significant</td>\n",
       "    </tr>\n",
       "    <tr>\n",
       "      <th>12</th>\n",
       "      <td>CAR</td>\n",
       "      <td>NOT significant</td>\n",
       "    </tr>\n",
       "    <tr>\n",
       "      <th>13</th>\n",
       "      <td>ARMM</td>\n",
       "      <td>Significant</td>\n",
       "    </tr>\n",
       "    <tr>\n",
       "      <th>14</th>\n",
       "      <td>Caraga</td>\n",
       "      <td>NOT significant</td>\n",
       "    </tr>\n",
       "    <tr>\n",
       "      <th>15</th>\n",
       "      <td>IVA - CALABARZON</td>\n",
       "      <td>Significant</td>\n",
       "    </tr>\n",
       "    <tr>\n",
       "      <th>16</th>\n",
       "      <td>IVB - MIMAROPA</td>\n",
       "      <td>NOT significant</td>\n",
       "    </tr>\n",
       "  </tbody>\n",
       "</table>\n",
       "</div>"
      ],
      "text/plain": [
       "                         Regn donations_expense_pcntg\n",
       "0           I - Ilocos Region             Significant\n",
       "1         II - Cagayan Valley             Significant\n",
       "2         III - Central Luzon             Significant\n",
       "3            V - Bicol Region             Significant\n",
       "4        VI - Western Visayas             Significant\n",
       "5       VII - Central Visayas         NOT significant\n",
       "6      VIII - Eastern Visayas             Significant\n",
       "7   IX - Zasmboanga Peninsula         NOT significant\n",
       "8       X - Northern Mindanao         NOT significant\n",
       "9           XI - Davao Region             Significant\n",
       "10         XII - SOCCSKSARGEN             Significant\n",
       "11                        NCR             Significant\n",
       "12                        CAR         NOT significant\n",
       "13                       ARMM             Significant\n",
       "14                     Caraga         NOT significant\n",
       "15           IVA - CALABARZON             Significant\n",
       "16             IVB - MIMAROPA         NOT significant"
      ]
     },
     "execution_count": 166,
     "metadata": {},
     "output_type": "execute_result"
    }
   ],
   "source": [
    "df_impr_reg_diff = pd.DataFrame()\n",
    "df_impr_reg_diff['Regn'] = sorted(set(df_impr.w_regn))\n",
    "df_impr_reg_diff['Regn'] = df_impr_reg_diff['Regn'].map(W_REGN)\n",
    "for pc in pcntg_cols:\n",
    "    test_vals = []\n",
    "    for rgn in sorted(set(df_impr.w_regn)):\n",
    "        df_reg = df_impr[df_impr['w_regn'] == rgn]\n",
    "        if 'NOT' in test_for_normality(df_reg[pc]):\n",
    "            normal = False\n",
    "        else:\n",
    "            normal = True\n",
    "        male = df_reg[df_reg.sex == 1][pc]\n",
    "        female = df_reg[df_reg.sex == 2][pc]\n",
    "        test = test_for_signif_diff(male, female, normal)\n",
    "        if 'NOT' in test:\n",
    "            test_vals.append('NOT significant')\n",
    "        else:\n",
    "            test_vals.append('Significant')\n",
    "    df_impr_reg_diff[pc] = test_vals\n",
    "df_impr_reg_diff"
   ]
  },
  {
   "cell_type": "markdown",
   "id": "50afd895",
   "metadata": {
    "ExecuteTime": {
     "end_time": "2021-09-16T09:35:53.102785Z",
     "start_time": "2021-09-16T09:35:53.098997Z"
    }
   },
   "source": [
    "# Vizzes"
   ]
  },
  {
   "cell_type": "markdown",
   "id": "9ffa10a8",
   "metadata": {
    "ExecuteTime": {
     "end_time": "2021-09-16T09:57:08.608893Z",
     "start_time": "2021-09-16T09:57:08.604992Z"
    }
   },
   "source": [
    "## Bar Plots"
   ]
  },
  {
   "cell_type": "markdown",
   "id": "eb40bdde",
   "metadata": {},
   "source": [
    "### Health and Wellbeing"
   ]
  },
  {
   "cell_type": "markdown",
   "id": "9405c85a",
   "metadata": {},
   "source": [
    "#### Entire"
   ]
  },
  {
   "cell_type": "code",
   "execution_count": 524,
   "id": "6b1cf8aa",
   "metadata": {
    "ExecuteTime": {
     "end_time": "2021-09-16T11:48:37.855960Z",
     "start_time": "2021-09-16T11:48:37.840522Z"
    }
   },
   "outputs": [
    {
     "name": "stdout",
     "output_type": "stream",
     "text": [
      "med_products_pcntg is probably NOT statistically different per mann-whitney\n",
      "hw_misc_pcntg is probably statistically different per mann-whitney\n"
     ]
    }
   ],
   "source": [
    "pcntg_cols = ['med_products_pcntg',\n",
    "              'hw_misc_pcntg']\n",
    "for pc in pcntg_cols:\n",
    "    male = df_hw[df_hw.sex == 1][pc]\n",
    "    female = df_hw[df_hw.sex == 2][pc]\n",
    "    print(pc,test_for_signif_diff(male, female))"
   ]
  },
  {
   "cell_type": "code",
   "execution_count": 521,
   "id": "f4f6c1ba",
   "metadata": {
    "ExecuteTime": {
     "end_time": "2021-09-16T11:46:50.299026Z",
     "start_time": "2021-09-16T11:46:50.280177Z"
    }
   },
   "outputs": [
    {
     "data": {
      "text/html": [
       "<div>\n",
       "<style scoped>\n",
       "    .dataframe tbody tr th:only-of-type {\n",
       "        vertical-align: middle;\n",
       "    }\n",
       "\n",
       "    .dataframe tbody tr th {\n",
       "        vertical-align: top;\n",
       "    }\n",
       "\n",
       "    .dataframe thead th {\n",
       "        text-align: right;\n",
       "    }\n",
       "</style>\n",
       "<table border=\"1\" class=\"dataframe\">\n",
       "  <thead>\n",
       "    <tr style=\"text-align: right;\">\n",
       "      <th></th>\n",
       "      <th>sex</th>\n",
       "      <th>variable</th>\n",
       "      <th>value</th>\n",
       "    </tr>\n",
       "  </thead>\n",
       "  <tbody>\n",
       "    <tr>\n",
       "      <th>0</th>\n",
       "      <td>1</td>\n",
       "      <td>med_products_pcntg</td>\n",
       "      <td>0.018565</td>\n",
       "    </tr>\n",
       "    <tr>\n",
       "      <th>1</th>\n",
       "      <td>2</td>\n",
       "      <td>med_products_pcntg</td>\n",
       "      <td>0.061428</td>\n",
       "    </tr>\n",
       "    <tr>\n",
       "      <th>2</th>\n",
       "      <td>1</td>\n",
       "      <td>hw_misc_pcntg</td>\n",
       "      <td>0.015401</td>\n",
       "    </tr>\n",
       "    <tr>\n",
       "      <th>3</th>\n",
       "      <td>2</td>\n",
       "      <td>hw_misc_pcntg</td>\n",
       "      <td>0.024497</td>\n",
       "    </tr>\n",
       "  </tbody>\n",
       "</table>\n",
       "</div>"
      ],
      "text/plain": [
       "   sex            variable     value\n",
       "0    1  med_products_pcntg  0.018565\n",
       "1    2  med_products_pcntg  0.061428\n",
       "2    1       hw_misc_pcntg  0.015401\n",
       "3    2       hw_misc_pcntg  0.024497"
      ]
     },
     "execution_count": 521,
     "metadata": {},
     "output_type": "execute_result"
    }
   ],
   "source": [
    "df_hw_entire = df_hw.groupby('sex')['med_products_pcntg',\n",
    "                     'hw_misc_pcntg'].mean().reset_index().melt(id_vars=['sex'])\n",
    "df_hw_entire"
   ]
  },
  {
   "cell_type": "code",
   "execution_count": 558,
   "id": "7ede9bce",
   "metadata": {
    "ExecuteTime": {
     "end_time": "2021-09-16T12:26:43.170977Z",
     "start_time": "2021-09-16T12:26:43.160773Z"
    }
   },
   "outputs": [],
   "source": [
    "df_hw_entire.to_csv('df_hw_entire.csv',index = False)"
   ]
  },
  {
   "cell_type": "code",
   "execution_count": 577,
   "id": "38bd0170",
   "metadata": {
    "ExecuteTime": {
     "end_time": "2021-09-16T12:37:56.033878Z",
     "start_time": "2021-09-16T12:37:55.809472Z"
    }
   },
   "outputs": [
    {
     "data": {
      "image/png": "[encoded data removed]",
      "text/plain": [
       "<Figure size 1152x576 with 1 Axes>"
      ]
     },
     "metadata": {
      "needs_background": "light"
     },
     "output_type": "display_data"
    }
   ],
   "source": [
    "width = 0.35  # the width of the bars\n",
    "fig, ax = plt.subplots(figsize = (16,8))\n",
    "\n",
    "df_m = df_hw_entire[df_hw_entire.sex == 1]\n",
    "df_f = df_hw_entire[df_hw_entire.sex == 2]\n",
    "x = np.arange(len(df_m))\n",
    "p1 = ax.bar(x - width/2 - 0.05, df_m.value, width, label = 'Men')\n",
    "p2 = ax.bar(x + width/2 + 0.05, df_f.value, width, label = 'Women')\n",
    "ax.set(xticks=x, xticklabels=['Medical Products', 'HnW Misc.'])\n",
    "signif = ['NOT significant', 'Significant']\n",
    "for i in range(len(p1)):\n",
    "    if signif[i] == 'NOT significant':\n",
    "        p1[i].set(fill=False, linewidth = 3, hatch = '//', edgecolor = \"#8eacd0\")\n",
    "        p2[i].set(fill=False, linewidth = 3, hatch = '//', edgecolor = \"#ffb8c7\")\n",
    "        \n",
    "plt.ylabel('Health and Wellness\\nExpenses / Total Expenses (%)')\n",
    "plt.xlabel('Health and Wellness Expenses')\n",
    "\n",
    "from matplotlib.patches import Patch\n",
    "from matplotlib.lines import Line2D\n",
    "\n",
    "[\"#8eacd0\", \"#ffb8c7\"]\n",
    "\n",
    "legend_elements = [Patch(facecolor=\"#8eacd0\", edgecolor=\"#8eacd0\",\n",
    "                         label='Male'),\n",
    "                   Patch(facecolor=\"#ffb8c7\", edgecolor=\"#ffb8c7\",\n",
    "                         label='Female'),\n",
    "                   Patch(fill=False, linewidth = 1, hatch = '////',\n",
    "                         edgecolor = \"k\",\n",
    "                         label = 'Not Significant')]\n",
    "ax.legend(handles=legend_elements, loc='upper right')\n",
    "pass"
   ]
  },
  {
   "cell_type": "markdown",
   "id": "84a61e4f",
   "metadata": {},
   "source": [
    "#### Per Region"
   ]
  },
  {
   "cell_type": "code",
   "execution_count": 559,
   "id": "b20932a2",
   "metadata": {
    "ExecuteTime": {
     "end_time": "2021-09-16T12:27:26.577570Z",
     "start_time": "2021-09-16T12:27:26.433166Z"
    }
   },
   "outputs": [],
   "source": [
    "df_hw_reg_diff = pd.DataFrame()\n",
    "df_hw_reg_diff['Regn'] = sorted(set(df_hw.w_regn))\n",
    "df_hw_reg_diff['Regn'] = df_hw_reg_diff['Regn'].map(W_REGN)\n",
    "pcntg_cols = ['med_products_pcntg', 'hw_misc_pcntg']\n",
    "for pc in pcntg_cols:\n",
    "    test_vals = []\n",
    "    for rgn in sorted(set(df_hw.w_regn)):\n",
    "        df_reg = df_hw[df_hw['w_regn'] == rgn]\n",
    "        if 'NOT' in test_for_normality(df_reg[pc]):\n",
    "            normal = False\n",
    "        else:\n",
    "            normal = True\n",
    "        male = df_reg[df_reg.sex == 1][pc]\n",
    "        female = df_reg[df_reg.sex == 2][pc]\n",
    "        test = test_for_signif_diff(male, female, normal)\n",
    "        if 'NOT' in test:\n",
    "            test_vals.append('NOT significant')\n",
    "        else:\n",
    "            test_vals.append('Significant')\n",
    "    df_hw_reg_diff[pc] = test_vals\n",
    "df_hw_reg_diff.to_csv('df_hw_reg_diff.csv',index = False)"
   ]
  },
  {
   "cell_type": "code",
   "execution_count": 560,
   "id": "5b345f38",
   "metadata": {
    "ExecuteTime": {
     "end_time": "2021-09-16T12:27:45.952338Z",
     "start_time": "2021-09-16T12:27:45.935280Z"
    }
   },
   "outputs": [],
   "source": [
    "new_df = df_hw.groupby(['w_regn','sex'])['med_products_pcntg','hw_misc_pcntg'].mean().reset_index()\n",
    "new_df.to_csv('new_df_hw.csv',index = False)"
   ]
  },
  {
   "cell_type": "markdown",
   "id": "7e1574ae",
   "metadata": {},
   "source": [
    "##### Medical Product"
   ]
  },
  {
   "cell_type": "code",
   "execution_count": 578,
   "id": "a56ddc40",
   "metadata": {
    "ExecuteTime": {
     "end_time": "2021-09-16T12:38:32.467165Z",
     "start_time": "2021-09-16T12:38:32.095086Z"
    }
   },
   "outputs": [
    {
     "data": {
      "image/png": "[encoded data removed]",
      "text/plain": [
       "<Figure size 1152x576 with 1 Axes>"
      ]
     },
     "metadata": {
      "needs_background": "light"
     },
     "output_type": "display_data"
    }
   ],
   "source": [
    "df_hw_reg_diff = pd.read_csv('df_hw_reg_diff.csv')\n",
    "new_df = pd.read_csv('new_df_hw.csv')\n",
    "\n",
    "width = 0.35  # the width of the bars\n",
    "fig, ax = plt.subplots(figsize = (16,8))\n",
    "\n",
    "df_m = new_df[new_df.sex == 1]\n",
    "df_f = new_df[new_df.sex == 2]\n",
    "x = np.arange(len(df_m))\n",
    "p1 = ax.bar(x - width/2 - 0.05, df_m.med_products_pcntg, width, label = 'Men')\n",
    "p2 = ax.bar(x + width/2 + 0.05, df_f.med_products_pcntg, width, label = 'Women')\n",
    "ax.set(xticks=x, xticklabels=list(W_REGN.values()))\n",
    "plt.xticks(rotation=90)\n",
    "signif = df_hw_reg_diff.med_products_pcntg\n",
    "for i in range(len(p1)):\n",
    "    if signif[i] == 'NOT significant':\n",
    "        p1[i].set(fill=False, linewidth = 3, hatch = '//', edgecolor = \"#8eacd0\")\n",
    "        p2[i].set(fill=False, linewidth = 3, hatch = '//', edgecolor = \"#ffb8c7\")\n",
    "        \n",
    "plt.ylabel('Health and Wellness\\nMedical Product Expenses / Total Expenses (%)')\n",
    "plt.xlabel('Regions')\n",
    "\n",
    "legend_elements = [Patch(facecolor=\"#8eacd0\", edgecolor=\"#8eacd0\",\n",
    "                         label='Male'),\n",
    "                   Patch(facecolor=\"#ffb8c7\", edgecolor=\"#ffb8c7\",\n",
    "                         label='Female'),\n",
    "                   Patch(fill=False, linewidth = 1, hatch = '////',\n",
    "                         edgecolor = \"k\",\n",
    "                         label = 'Not Significant')]\n",
    "ax.legend(handles=legend_elements, loc='upper right')\n",
    "pass"
   ]
  },
  {
   "cell_type": "markdown",
   "id": "a9d33294",
   "metadata": {
    "ExecuteTime": {
     "end_time": "2021-09-16T11:38:41.185463Z",
     "start_time": "2021-09-16T11:38:41.175458Z"
    }
   },
   "source": [
    "##### Misc. Expenses"
   ]
  },
  {
   "cell_type": "code",
   "execution_count": 579,
   "id": "702361ff",
   "metadata": {
    "ExecuteTime": {
     "end_time": "2021-09-16T12:38:35.194207Z",
     "start_time": "2021-09-16T12:38:34.838034Z"
    },
    "scrolled": false
   },
   "outputs": [
    {
     "data": {
      "image/png": "[encoded data removed]",
      "text/plain": [
       "<Figure size 1152x576 with 1 Axes>"
      ]
     },
     "metadata": {
      "needs_background": "light"
     },
     "output_type": "display_data"
    }
   ],
   "source": [
    "width = 0.35  # the width of the bars\n",
    "fig, ax = plt.subplots(figsize = (16,8))\n",
    "\n",
    "df_m = new_df[new_df.sex == 1]\n",
    "df_f = new_df[new_df.sex == 2]\n",
    "x = np.arange(len(df_m))\n",
    "p1 = ax.bar(x - width/2 - 0.05, df_m.hw_misc_pcntg, width, label = 'Men')\n",
    "p2 = ax.bar(x + width/2 + 0.05, df_f.hw_misc_pcntg, width, label = 'Women')\n",
    "ax.set(xticks=x, xticklabels=list(W_REGN.values()))\n",
    "plt.xticks(rotation=90)\n",
    "signif = df_hw_reg_diff.hw_misc_pcntg\n",
    "for i in range(len(p1)):\n",
    "    if signif[i] == 'NOT significant':\n",
    "        p1[i].set(fill=False, linewidth = 3, hatch = '//', edgecolor = \"#8eacd0\")\n",
    "        p2[i].set(fill=False, linewidth = 3, hatch = '//', edgecolor = \"#ffb8c7\")\n",
    "\n",
    "plt.ylabel('Health and Wellness\\nMiscellaneous Expenses / Total Expenses (%)')\n",
    "plt.xlabel('Regions')\n",
    "\n",
    "legend_elements = [Patch(facecolor=\"#8eacd0\", edgecolor=\"#8eacd0\",\n",
    "                         label='Male'),\n",
    "                   Patch(facecolor=\"#ffb8c7\", edgecolor=\"#ffb8c7\",\n",
    "                         label='Female'),\n",
    "                   Patch(fill=False, linewidth = 1, hatch = '////',\n",
    "                         edgecolor = \"k\",\n",
    "                         label = 'Not Significant')]\n",
    "ax.legend(handles=legend_elements, loc='upper right')\n",
    "pass"
   ]
  },
  {
   "cell_type": "markdown",
   "id": "42db5ac5",
   "metadata": {},
   "source": [
    "### Misc. Expenses"
   ]
  },
  {
   "cell_type": "markdown",
   "id": "ab9f32f8",
   "metadata": {},
   "source": [
    "#### Entire"
   ]
  },
  {
   "cell_type": "code",
   "execution_count": 549,
   "id": "6c1d4f30",
   "metadata": {
    "ExecuteTime": {
     "end_time": "2021-09-16T12:21:27.268786Z",
     "start_time": "2021-09-16T12:21:27.250303Z"
    }
   },
   "outputs": [
    {
     "name": "stdout",
     "output_type": "stream",
     "text": [
      "spec_expense_pcntg is probably statistically different per mann-whitney\n",
      "fashion_misc_pcntg is probably NOT statistically different per mann-whitney\n"
     ]
    }
   ],
   "source": [
    "pcntg_cols = ['spec_expense_pcntg', \n",
    "              'fashion_misc_pcntg']\n",
    "for pc in pcntg_cols:\n",
    "    male = df_misc[df_misc.sex == 1][pc]\n",
    "    female = df_misc[df_misc.sex == 2][pc]\n",
    "    print(pc,test_for_signif_diff(male, female))"
   ]
  },
  {
   "cell_type": "code",
   "execution_count": 561,
   "id": "280dd75b",
   "metadata": {
    "ExecuteTime": {
     "end_time": "2021-09-16T12:28:19.578924Z",
     "start_time": "2021-09-16T12:28:19.561512Z"
    }
   },
   "outputs": [],
   "source": [
    "pcntg_cols = ['spec_expense_pcntg',\n",
    "              'fashion_misc_pcntg']\n",
    "df_misc_entire = df_misc.groupby('sex')[pcntg_cols].mean().reset_index().melt(id_vars=['sex'])\n",
    "df_misc_entire.to_csv('df_misc_entire.csv',index = False)"
   ]
  },
  {
   "cell_type": "code",
   "execution_count": 580,
   "id": "da044c60",
   "metadata": {
    "ExecuteTime": {
     "end_time": "2021-09-16T12:38:40.682708Z",
     "start_time": "2021-09-16T12:38:40.455131Z"
    }
   },
   "outputs": [
    {
     "data": {
      "image/png": "[encoded data removed]",
      "text/plain": [
       "<Figure size 1152x576 with 1 Axes>"
      ]
     },
     "metadata": {
      "needs_background": "light"
     },
     "output_type": "display_data"
    }
   ],
   "source": [
    "width = 0.35  # the width of the bars\n",
    "fig, ax = plt.subplots(figsize = (16,8))\n",
    "\n",
    "df_m = df_misc_entire[df_misc_entire.sex == 1]\n",
    "df_f = df_misc_entire[df_misc_entire.sex == 2]\n",
    "x = np.arange(len(df_m))\n",
    "p1 = ax.bar(x - width/2 - 0.05, df_m.value, width, label = 'Men')\n",
    "p2 = ax.bar(x + width/2 + 0.05, df_f.value, width, label = 'Women')\n",
    "ax.set(xticks=x, xticklabels=['Special Occassion Expenses', 'Fashion Expenses'])\n",
    "signif = ['Significant', 'NOT significant']\n",
    "for i in range(len(p1)):\n",
    "    if signif[i] == 'NOT significant':\n",
    "        p1[i].set(fill=False, linewidth = 3, hatch = '//', edgecolor = \"#8eacd0\")\n",
    "        p2[i].set(fill=False, linewidth = 3, hatch = '//', edgecolor = \"#ffb8c7\")\n",
    "        \n",
    "plt.ylabel('Misc. Expenses / Total Expenses (%)')\n",
    "plt.xlabel('Misc. Expenses')\n",
    "\n",
    "legend_elements = [Patch(facecolor=\"#8eacd0\", edgecolor=\"#8eacd0\",\n",
    "                         label='Male'),\n",
    "                   Patch(facecolor=\"#ffb8c7\", edgecolor=\"#ffb8c7\",\n",
    "                         label='Female'),\n",
    "                   Patch(fill=False, linewidth = 1, hatch = '////',\n",
    "                         edgecolor = \"k\",\n",
    "                         label = 'Not Significant')]\n",
    "ax.legend(handles=legend_elements, loc='upper right')\n",
    "pass"
   ]
  },
  {
   "cell_type": "markdown",
   "id": "daf6700e",
   "metadata": {},
   "source": [
    "#### Per Region"
   ]
  },
  {
   "cell_type": "code",
   "execution_count": 565,
   "id": "8eb8e645",
   "metadata": {
    "ExecuteTime": {
     "end_time": "2021-09-16T12:30:06.216069Z",
     "start_time": "2021-09-16T12:30:06.016456Z"
    }
   },
   "outputs": [
    {
     "name": "stderr",
     "output_type": "stream",
     "text": [
      "/opt/conda/lib/python3.8/site-packages/scipy/stats/morestats.py:1678: UserWarning: Input data for shapiro has range zero. The results may not be accurate.\n",
      "  warnings.warn(\"Input data for shapiro has range zero. The results \"\n",
      "/opt/conda/lib/python3.8/site-packages/scipy/stats/morestats.py:1678: UserWarning: Input data for shapiro has range zero. The results may not be accurate.\n",
      "  warnings.warn(\"Input data for shapiro has range zero. The results \"\n"
     ]
    }
   ],
   "source": [
    "pcntg_cols = ['spec_expense_pcntg', 'gadget_expense_pcntg', 'fashion_misc_pcntg']\n",
    "df_misc_reg_diff = pd.DataFrame()\n",
    "df_misc_reg_diff['Regn'] = sorted(set(df_misc.w_regn))\n",
    "df_misc_reg_diff['Regn'] = df_misc_reg_diff['Regn'].map(W_REGN)\n",
    "for pc in pcntg_cols:\n",
    "    test_vals = []\n",
    "    for rgn in sorted(set(df_misc.w_regn)):\n",
    "        df_reg = df_misc[df_misc['w_regn'] == rgn]\n",
    "        if 'NOT' in test_for_normality(df_reg[pc]):\n",
    "            normal = False\n",
    "        else:\n",
    "            normal = True\n",
    "        male = df_reg[df_reg.sex == 1][pc]\n",
    "        female = df_reg[df_reg.sex == 2][pc]\n",
    "        test = test_for_signif_diff(male, female, normal)\n",
    "        if 'NOT' in test:\n",
    "            test_vals.append('NOT significant')\n",
    "        else:\n",
    "            test_vals.append('Significant')\n",
    "    df_misc_reg_diff[pc] = test_vals\n",
    "df_misc_reg_diff.to_csv('df_misc_reg_diff.csv',index = False)"
   ]
  },
  {
   "cell_type": "code",
   "execution_count": 563,
   "id": "fabb3b24",
   "metadata": {
    "ExecuteTime": {
     "end_time": "2021-09-16T12:29:11.631742Z",
     "start_time": "2021-09-16T12:29:11.616944Z"
    }
   },
   "outputs": [],
   "source": [
    "new_df2 = df_misc.groupby(['w_regn','sex'])['spec_expense_pcntg', 'gadget_expense_pcntg', 'fashion_misc_pcntg'].mean().reset_index()\n",
    "new_df2.to_csv('new_df_misc.csv',index = False)"
   ]
  },
  {
   "cell_type": "markdown",
   "id": "63969e91",
   "metadata": {},
   "source": [
    "##### Special Occasion Expenses"
   ]
  },
  {
   "cell_type": "code",
   "execution_count": 581,
   "id": "d387fc5b",
   "metadata": {
    "ExecuteTime": {
     "end_time": "2021-09-16T12:38:46.240409Z",
     "start_time": "2021-09-16T12:38:45.864659Z"
    }
   },
   "outputs": [
    {
     "data": {
      "image/png": "[encoded data removed]",
      "text/plain": [
       "<Figure size 1152x576 with 1 Axes>"
      ]
     },
     "metadata": {
      "needs_background": "light"
     },
     "output_type": "display_data"
    }
   ],
   "source": [
    "width = 0.35  # the width of the bars\n",
    "fig, ax = plt.subplots(figsize = (16,8))\n",
    "\n",
    "df_m = new_df2[new_df2.sex == 1]\n",
    "df_f = new_df2[new_df2.sex == 2]\n",
    "x = np.arange(len(df_m))\n",
    "p1 = ax.bar(x - width/2 - 0.05, df_m.spec_expense_pcntg, width, label = 'Men')\n",
    "p2 = ax.bar(x + width/2 + 0.05, df_f.spec_expense_pcntg, width, label = 'Women')\n",
    "ax.set(xticks=x, xticklabels=list(W_REGN.values()))\n",
    "plt.xticks(rotation=90)\n",
    "signif = df_misc_reg_diff.spec_expense_pcntg\n",
    "for i in range(len(p1)):\n",
    "    if signif[i] == 'NOT significant':\n",
    "        p1[i].set(fill=False, linewidth = 3, hatch = '//', edgecolor = \"#8eacd0\")\n",
    "        p2[i].set(fill=False, linewidth = 3, hatch = '//', edgecolor = \"#ffb8c7\")\n",
    "\n",
    "plt.ylabel('Misc. Expense\\nSpecial Occasion Expenses / Total Expenses (%)')\n",
    "plt.xlabel('Regions')\n",
    "\n",
    "legend_elements = [Patch(facecolor=\"#8eacd0\", edgecolor=\"#8eacd0\",\n",
    "                         label='Male'),\n",
    "                   Patch(facecolor=\"#ffb8c7\", edgecolor=\"#ffb8c7\",\n",
    "                         label='Female'),\n",
    "                   Patch(fill=False, linewidth = 1, hatch = '////',\n",
    "                         edgecolor = \"k\",\n",
    "                         label = 'Not Significant')]\n",
    "ax.legend(handles=legend_elements, loc='upper right')\n",
    "pass"
   ]
  },
  {
   "cell_type": "markdown",
   "id": "e0bc7aae",
   "metadata": {},
   "source": [
    "##### Gadget Expenses"
   ]
  },
  {
   "cell_type": "code",
   "execution_count": 582,
   "id": "7d9e4eea",
   "metadata": {
    "ExecuteTime": {
     "end_time": "2021-09-16T12:38:50.576349Z",
     "start_time": "2021-09-16T12:38:50.205968Z"
    }
   },
   "outputs": [
    {
     "data": {
      "image/png": "[encoded data removed]",
      "text/plain": [
       "<Figure size 1152x576 with 1 Axes>"
      ]
     },
     "metadata": {
      "needs_background": "light"
     },
     "output_type": "display_data"
    }
   ],
   "source": [
    "width = 0.35  # the width of the bars\n",
    "fig, ax = plt.subplots(figsize = (16,8))\n",
    "\n",
    "df_m = new_df2[new_df2.sex == 1]\n",
    "df_f = new_df2[new_df2.sex == 2]\n",
    "x = np.arange(len(df_m))\n",
    "p1 = ax.bar(x - width/2 - 0.05, df_m.gadget_expense_pcntg, width, label = 'Men')\n",
    "p2 = ax.bar(x + width/2 + 0.05, df_f.gadget_expense_pcntg, width, label = 'Women')\n",
    "ax.set(xticks=x, xticklabels=list(W_REGN.values()))\n",
    "plt.xticks(rotation=90)\n",
    "signif = df_misc_reg_diff.gadget_expense_pcntg\n",
    "for i in range(len(p1)):\n",
    "    if signif[i] == 'NOT significant':\n",
    "        p1[i].set(fill=False, linewidth = 3, hatch = '//', edgecolor = \"#8eacd0\")\n",
    "        p2[i].set(fill=False, linewidth = 3, hatch = '//', edgecolor = \"#ffb8c7\")\n",
    "\n",
    "plt.ylabel('Misc. Expense\\nGadget Expenses / Total Expenses (%)')\n",
    "plt.xlabel('Regions')\n",
    "\n",
    "legend_elements = [Patch(facecolor=\"#8eacd0\", edgecolor=\"#8eacd0\",\n",
    "                         label='Male'),\n",
    "                   Patch(facecolor=\"#ffb8c7\", edgecolor=\"#ffb8c7\",\n",
    "                         label='Female'),\n",
    "                   Patch(fill=False, linewidth = 1, hatch = '////',\n",
    "                         edgecolor = \"k\",\n",
    "                         label = 'Not Significant')]\n",
    "ax.legend(handles=legend_elements, loc='upper right')\n",
    "pass"
   ]
  },
  {
   "cell_type": "markdown",
   "id": "681e1080",
   "metadata": {
    "ExecuteTime": {
     "end_time": "2021-09-16T11:39:08.138515Z",
     "start_time": "2021-09-16T11:39:08.134757Z"
    }
   },
   "source": [
    "##### Fashion Expenses"
   ]
  },
  {
   "cell_type": "code",
   "execution_count": 583,
   "id": "39aadee7",
   "metadata": {
    "ExecuteTime": {
     "end_time": "2021-09-16T12:38:55.668110Z",
     "start_time": "2021-09-16T12:38:55.305379Z"
    }
   },
   "outputs": [
    {
     "data": {
      "image/png": "[encoded data removed]",
      "text/plain": [
       "<Figure size 1152x576 with 1 Axes>"
      ]
     },
     "metadata": {
      "needs_background": "light"
     },
     "output_type": "display_data"
    }
   ],
   "source": [
    "width = 0.35  # the width of the bars\n",
    "fig, ax = plt.subplots(figsize = (16,8))\n",
    "\n",
    "df_m = new_df2[new_df2.sex == 1]\n",
    "df_f = new_df2[new_df2.sex == 2]\n",
    "x = np.arange(len(df_m))\n",
    "p1 = ax.bar(x - width/2 - 0.05, df_m.fashion_misc_pcntg, width, label = 'Men')\n",
    "p2 = ax.bar(x + width/2 + 0.05, df_f.fashion_misc_pcntg, width, label = 'Women')\n",
    "ax.set(xticks=x, xticklabels=list(W_REGN.values()))\n",
    "plt.xticks(rotation=90)\n",
    "signif = df_misc_reg_diff.fashion_misc_pcntg\n",
    "for i in range(len(p1)):\n",
    "    if signif[i] == 'NOT significant':\n",
    "        p1[i].set(fill=False, linewidth = 3, hatch = '//', edgecolor = \"#8eacd0\")\n",
    "        p2[i].set(fill=False, linewidth = 3, hatch = '//', edgecolor = \"#ffb8c7\")\n",
    "\n",
    "plt.ylabel('Misc. Expenses\\nFashion Expenses / Total Expenses (%)')\n",
    "plt.xlabel('Regions')\n",
    "\n",
    "legend_elements = [Patch(facecolor=\"#8eacd0\", edgecolor=\"#8eacd0\",\n",
    "                         label='Male'),\n",
    "                   Patch(facecolor=\"#ffb8c7\", edgecolor=\"#ffb8c7\",\n",
    "                         label='Female'),\n",
    "                   Patch(fill=False, linewidth = 1, hatch = '////',\n",
    "                         edgecolor = \"k\",\n",
    "                         label = 'Not Significant')]\n",
    "ax.legend(handles=legend_elements, loc='upper right')\n",
    "pass"
   ]
  },
  {
   "cell_type": "markdown",
   "id": "2dc124d8",
   "metadata": {},
   "source": [
    "### Impersonal Expenses"
   ]
  },
  {
   "cell_type": "markdown",
   "id": "75142357",
   "metadata": {},
   "source": [
    "#### Entire"
   ]
  },
  {
   "cell_type": "code",
   "execution_count": 562,
   "id": "fa162701",
   "metadata": {
    "ExecuteTime": {
     "end_time": "2021-09-16T12:28:35.439003Z",
     "start_time": "2021-09-16T12:28:35.423416Z"
    }
   },
   "outputs": [],
   "source": [
    "pcntg_cols = ['donations_expense_pcntg']\n",
    "df_impr_entire = df_impr.groupby('sex')[pcntg_cols].mean().reset_index().melt(id_vars=['sex'])\n",
    "df_impr_entire.to_csv('df_impr_entire.csv',index = False)"
   ]
  },
  {
   "cell_type": "code",
   "execution_count": 544,
   "id": "43a0020f",
   "metadata": {
    "ExecuteTime": {
     "end_time": "2021-09-16T11:55:38.514676Z",
     "start_time": "2021-09-16T11:55:38.503260Z"
    }
   },
   "outputs": [
    {
     "name": "stdout",
     "output_type": "stream",
     "text": [
      "donations_expense_pcntg is probably NOT statistically different per mann-whitney\n"
     ]
    }
   ],
   "source": [
    "for pc in pcntg_cols:\n",
    "    male = df_impr[df_impr.sex == 1][pc]\n",
    "    female = df_impr[df_impr.sex == 2][pc]\n",
    "    print(pc,test_for_signif_diff(male, female))"
   ]
  },
  {
   "cell_type": "code",
   "execution_count": 584,
   "id": "efdea880",
   "metadata": {
    "ExecuteTime": {
     "end_time": "2021-09-16T12:39:00.450526Z",
     "start_time": "2021-09-16T12:39:00.248027Z"
    }
   },
   "outputs": [
    {
     "data": {
      "image/png": "[encoded data removed]",
      "text/plain": [
       "<Figure size 1152x576 with 1 Axes>"
      ]
     },
     "metadata": {
      "needs_background": "light"
     },
     "output_type": "display_data"
    }
   ],
   "source": [
    "width = 0.35  # the width of the bars\n",
    "fig, ax = plt.subplots(figsize = (16,8))\n",
    "\n",
    "df_m = df_impr_entire[df_impr_entire.sex == 1]\n",
    "df_f = df_impr_entire[df_impr_entire.sex == 2]\n",
    "x = np.arange(len(df_m))\n",
    "p1 = ax.bar(x - width/2 - 0.05, df_m.value, width, label = 'Men')\n",
    "p2 = ax.bar(x + width/2 + 0.05, df_f.value, width, label = 'Women')\n",
    "ax.set(xticks=x, xticklabels=['donations_expense_pcntg'])\n",
    "signif = ['NOT significant']\n",
    "for i in range(len(p1)):\n",
    "    if signif[i] == 'NOT significant':\n",
    "        p1[i].set(fill=False, linewidth = 3, hatch = '//', edgecolor = \"#8eacd0\")\n",
    "        p2[i].set(fill=False, linewidth = 3, hatch = '//', edgecolor = \"#ffb8c7\")\n",
    "        \n",
    "plt.ylabel('Impersonal Expenses / Total Expenses (%)')\n",
    "plt.xlabel('Impersonal Expenses')\n",
    "\n",
    "legend_elements = [Patch(facecolor=\"#8eacd0\", edgecolor=\"#8eacd0\",\n",
    "                         label='Male'),\n",
    "                   Patch(facecolor=\"#ffb8c7\", edgecolor=\"#ffb8c7\",\n",
    "                         label='Female'),\n",
    "                   Patch(fill=False, linewidth = 1, hatch = '////',\n",
    "                         edgecolor = \"k\",\n",
    "                         label = 'Not Significant')]\n",
    "ax.legend(handles=legend_elements, loc='upper right')\n",
    "pass"
   ]
  },
  {
   "cell_type": "markdown",
   "id": "5e578df5",
   "metadata": {},
   "source": [
    "#### Per Region"
   ]
  },
  {
   "cell_type": "code",
   "execution_count": 566,
   "id": "4855a0d9",
   "metadata": {
    "ExecuteTime": {
     "end_time": "2021-09-16T12:30:14.296010Z",
     "start_time": "2021-09-16T12:30:14.215449Z"
    }
   },
   "outputs": [],
   "source": [
    "pcntg_cols = ['donations_expense_pcntg']\n",
    "df_impr_reg_diff = pd.DataFrame()\n",
    "df_impr_reg_diff['Regn'] = sorted(set(df_impr.w_regn))\n",
    "df_impr_reg_diff['Regn'] = df_impr_reg_diff['Regn'].map(W_REGN)\n",
    "for pc in pcntg_cols:\n",
    "    test_vals = []\n",
    "    for rgn in sorted(set(df_impr.w_regn)):\n",
    "        df_reg = df_impr[df_impr['w_regn'] == rgn]\n",
    "        if 'NOT' in test_for_normality(df_reg[pc]):\n",
    "            normal = False\n",
    "        else:\n",
    "            normal = True\n",
    "        male = df_reg[df_reg.sex == 1][pc]\n",
    "        female = df_reg[df_reg.sex == 2][pc]\n",
    "        test = test_for_signif_diff(male, female, normal)\n",
    "        if 'NOT' in test:\n",
    "            test_vals.append('NOT significant')\n",
    "        else:\n",
    "            test_vals.append('Significant')\n",
    "    df_impr_reg_diff[pc] = test_vals\n",
    "df_impr_reg_diff.to_csv('df_impr_reg_diff.csv',index = False)"
   ]
  },
  {
   "cell_type": "code",
   "execution_count": 564,
   "id": "ffa97329",
   "metadata": {
    "ExecuteTime": {
     "end_time": "2021-09-16T12:29:29.488542Z",
     "start_time": "2021-09-16T12:29:29.471831Z"
    }
   },
   "outputs": [],
   "source": [
    "new_df3 = df_impr.groupby(['w_regn','sex'])['donations_expense_pcntg'].mean().reset_index()\n",
    "new_df3.to_csv('new_df_impr.csv',index = False)"
   ]
  },
  {
   "cell_type": "markdown",
   "id": "5fc86eac",
   "metadata": {},
   "source": [
    "##### Donations"
   ]
  },
  {
   "cell_type": "code",
   "execution_count": 585,
   "id": "0aad0712",
   "metadata": {
    "ExecuteTime": {
     "end_time": "2021-09-16T12:39:11.107778Z",
     "start_time": "2021-09-16T12:39:10.720965Z"
    }
   },
   "outputs": [
    {
     "data": {
      "image/png": "[encoded data removed]",
      "text/plain": [
       "<Figure size 1152x576 with 1 Axes>"
      ]
     },
     "metadata": {
      "needs_background": "light"
     },
     "output_type": "display_data"
    }
   ],
   "source": [
    "width = 0.35  # the width of the bars\n",
    "fig, ax = plt.subplots(figsize = (16,8))\n",
    "\n",
    "df_m = new_df3[new_df3.sex == 1]\n",
    "df_f = new_df3[new_df3.sex == 2]\n",
    "x = np.arange(len(df_m))\n",
    "p1 = ax.bar(x - width/2 - 0.05, df_m.donations_expense_pcntg, width, label = 'Men')\n",
    "p2 = ax.bar(x + width/2 + 0.05, df_f.donations_expense_pcntg, width, label = 'Women')\n",
    "ax.set(xticks=x, xticklabels=list(W_REGN.values()))\n",
    "plt.xticks(rotation=90)\n",
    "signif = df_impr_reg_diff.donations_expense_pcntg\n",
    "for i in range(len(p1)):\n",
    "    if signif[i] == 'NOT significant':\n",
    "        p1[i].set(fill=False, linewidth = 3, hatch = '//', edgecolor = \"#8eacd0\")\n",
    "        p2[i].set(fill=False, linewidth = 3, hatch = '//', edgecolor = \"#ffb8c7\")\n",
    "\n",
    "plt.ylabel('Impersonal Expenses\\nDonations / Total Expenses (%)')\n",
    "plt.xlabel('Regions')\n",
    "\n",
    "legend_elements = [Patch(facecolor=\"#8eacd0\", edgecolor=\"#8eacd0\",\n",
    "                         label='Male'),\n",
    "                   Patch(facecolor=\"#ffb8c7\", edgecolor=\"#ffb8c7\",\n",
    "                         label='Female'),\n",
    "                   Patch(fill=False, linewidth = 1, hatch = '////',\n",
    "                         edgecolor = \"k\",\n",
    "                         label = 'Not Significant')]\n",
    "ax.legend(handles=legend_elements, loc='upper right')\n",
    "pass"
   ]
  }
 ],
 "metadata": {
  "kernelspec": {
   "display_name": "Python 3",
   "language": "python",
   "name": "python3"
  },
  "language_info": {
   "codemirror_mode": {
    "name": "ipython",
    "version": 3
   },
   "file_extension": ".py",
   "mimetype": "text/x-python",
   "name": "python",
   "nbconvert_exporter": "python",
   "pygments_lexer": "ipython3",
   "version": "3.8.8"
  },
  "toc": {
   "base_numbering": 1,
   "nav_menu": {},
   "number_sections": true,
   "sideBar": true,
   "skip_h1_title": false,
   "title_cell": "Table of Contents",
   "title_sidebar": "Contents",
   "toc_cell": false,
   "toc_position": {
    "height": "calc(100% - 180px)",
    "left": "10px",
    "top": "150px",
    "width": "384px"
   },
   "toc_section_display": true,
   "toc_window_display": true
  }
 },
 "nbformat": 4,
 "nbformat_minor": 5
}
